{
 "cells": [
  {
   "cell_type": "markdown",
   "metadata": {},
   "source": [
    "### ***Learn how to scrape a list of top 300 movies from Rottentomatoes using BeautifulSoup and Requests Library. Extract Title, Release_Year, Ratings, Director,Synopsis,Critics_Consensus,Cast,Movie url for each movie and create a CSV file for data analysis.***"
   ]
  },
  {
   "cell_type": "markdown",
   "metadata": {},
   "source": [
    "# Scraping Rotten Tomatoes Top 300 Movies to Watch using BeautifulSoup and Requests\n",
    "#### *DataSource:[RottenTomatoes]( https://editorial.rottentomatoes.com/guide/essential-movies-to-watch-now/)*\n",
    "![](https://imgur.com/zAlLO5T.png)"
   ]
  },
  {
   "cell_type": "markdown",
   "metadata": {},
   "source": [
    "### *About Rotten Tomato:*\n",
    "                Rotten Tomatoes is an American review-aggregation website for film and television. The company was launched in August 1998 by three undergraduate students at the University of California, Berkeley: Senh Duong, Patrick Y. Lee, and Stephen Wang. Although the name \"Rotten Tomatoes\" connects to the practice of audiences throwing rotten tomatoes in disapproval of a poor stage performance, the direct inspiration for the name from Duong, Lee, and Wang came from an equivalent scene in the 1992 Canadian film Léolo."
   ]
  },
  {
   "cell_type": "markdown",
   "metadata": {},
   "source": [
    "### *What is HTML?*\n",
    "                The HyperText Markup Language or HTML is the standard markup language for documents designed to be displayed in a web browser\n",
    "![](https://imgur.com/sE5cxN0.png)                \n",
    "### *What is Web Scraping?*\n",
    "                Web scraping is an automatic method to obtain large amounts of data from websites. Most of this data is unstructured data in an HTML format which is then converted into structured data in a spreadsheet or a database so that it can be used in various applications.\n",
    "![](https://imgur.com/Auc1eO6.png)\n",
    "### *Why is Python programming language is used for Web Scraping?*\n",
    "                Python is one of the most popular programming languages for web scraping. Its high speed, ease of use, and support for third-party libraries make it ideal for scraping the web. The language supports many web scraping functions and can be used for various projects."
   ]
  },
  {
   "cell_type": "markdown",
   "metadata": {},
   "source": [
    "### Objective\n",
    "The objective of the project is to scrape the data such-Title, Movie_Release,Movie_Rating,\n",
    "Director,Synopsis,Critics_Consensus,Cast,Movie URL from the above mentioned webpage and create a CSV file out of it.\n",
    "![](https://imgur.com/HBxRUjP.png)"
   ]
  },
  {
   "cell_type": "markdown",
   "metadata": {},
   "source": [
    "### *This is an outline of the steps that we were followed:*\n",
    "1. Download the web page using \"requests\"\n",
    "2. Parse the HTML code using \"BeautifulSoup\"\n",
    "3. Extract data from web page :'Title', 'Release_year', 'Rating', 'Director','Synopsis','Critics_Consensus','Cast','url'\n",
    "4. Compile extracted information into python dictionaries\n",
    "5. Save the extracted information into a csv file\n",
    "6. By the end of the project I have created a csv file in the following format:"
   ]
  },
  {
   "cell_type": "code",
   "execution_count": 1,
   "metadata": {},
   "outputs": [],
   "source": [
    "!pip install jovian --upgrade --quiet"
   ]
  },
  {
   "cell_type": "code",
   "execution_count": 2,
   "metadata": {},
   "outputs": [
    {
     "data": {
      "application/javascript": [
       "window.require && require([\"base/js/namespace\"],function(Jupyter){Jupyter.notebook.save_checkpoint()})"
      ],
      "text/plain": [
       "<IPython.core.display.Javascript object>"
      ]
     },
     "metadata": {},
     "output_type": "display_data"
    },
    {
     "name": "stdout",
     "output_type": "stream",
     "text": [
      "[jovian] Updating notebook \"richardsamuelvincentpaul/web-scraping-project-top300-movies\" on https://jovian.com\u001b[0m\n",
      "[jovian] Committed successfully! https://jovian.com/richardsamuelvincentpaul/web-scraping-project-top300-movies\u001b[0m\n"
     ]
    },
    {
     "data": {
      "text/plain": [
       "'https://jovian.com/richardsamuelvincentpaul/web-scraping-project-top300-movies'"
      ]
     },
     "execution_count": 2,
     "metadata": {},
     "output_type": "execute_result"
    }
   ],
   "source": [
    "# Execute this to save versions of the notebook\n",
    "import jovian\n",
    "jovian.commit(project=\"web-scraping-project_Top300_Movies\")"
   ]
  },
  {
   "cell_type": "markdown",
   "metadata": {},
   "source": [
    "# *Use the requests library to download web pages*  \n",
    "### *Requests:* \n",
    "                Requests is a library for making HTTP requests. It provides an easy-to-use interface that makes working with HTTP very simple, which means it simplifies the process of sending and receiving data from websites by providing a uniform interface.\n",
    "![](https://imgur.com/rQnaZle.png)"
   ]
  },
  {
   "cell_type": "code",
   "execution_count": 3,
   "metadata": {},
   "outputs": [],
   "source": [
    "!pip install requests --upgrade --quiet"
   ]
  },
  {
   "cell_type": "code",
   "execution_count": 4,
   "metadata": {},
   "outputs": [],
   "source": [
    "#Import Requests Library\n",
    "import requests\n",
    "#Import Pandas Library to create dataframe\n",
    "import pandas as pd"
   ]
  },
  {
   "cell_type": "code",
   "execution_count": 5,
   "metadata": {},
   "outputs": [],
   "source": [
    "base_url=\"https://editorial.rottentomatoes.com/guide/essential-movies-to-watch-now/\""
   ]
  },
  {
   "cell_type": "code",
   "execution_count": 6,
   "metadata": {},
   "outputs": [],
   "source": [
    "#Downloading the web page using requests.get function \n",
    "response = requests.get(base_url)"
   ]
  },
  {
   "cell_type": "code",
   "execution_count": 7,
   "metadata": {},
   "outputs": [
    {
     "data": {
      "text/plain": [
       "200"
      ]
     },
     "execution_count": 7,
     "metadata": {},
     "output_type": "execute_result"
    }
   ],
   "source": [
    "response.status_code #the response is successful"
   ]
  },
  {
   "cell_type": "code",
   "execution_count": 8,
   "metadata": {},
   "outputs": [],
   "source": [
    "page_contents = response.text"
   ]
  },
  {
   "cell_type": "code",
   "execution_count": 9,
   "metadata": {},
   "outputs": [
    {
     "data": {
      "text/plain": [
       "578744"
      ]
     },
     "execution_count": 9,
     "metadata": {},
     "output_type": "execute_result"
    }
   ],
   "source": [
    "len(response.text)"
   ]
  },
  {
   "cell_type": "code",
   "execution_count": 10,
   "metadata": {},
   "outputs": [
    {
     "data": {
      "text/plain": [
       "'<!DOCTYPE html>\\n<html lang=\"en-US\" class=\"hitim\">\\n<head prefix=\"og: http://ogp.me/ns# flixstertomatoes: http://ogp.me/ns/apps/flixstertomatoes#\">\\n    <meta http-equiv=\"content-type\" content=\"text/html; charset=UTF-8\" />\\n    \\n    <!-- OneTrust Cookies Consent Notice start for rottentomatoes.com -->\\n    <script src=\"https://cdn.cookielaw.org/consent/7e979733-6841-4fce-9182-515fac69187f/otSDKStub.js\"\\n        type=\"text/javascript\"\\n        charset=\"UTF-8\"\\n        data-domain-script=\"7e979733-6841-4fce-9182-515fac69187f\"\\n        integrity=\"sha384-WEHwEli88wqOiQd913F1utFZiwisa8XhCkbjLnbKEpFa/WbFcPKeGg7h4fdsv0Z/\"\\n        crossorigin=\"anonymous\" >\\n    </script>\\n    <script type=\"text/javascript\">\\n        function OptanonWrapper() { }\\n    </script>\\n    <!-- OneTrust Cookies Consent Notice end for rottentomatoes.com -->\\n    <!-- OneTrust IAB US Privacy (USP) -->\\n    <script src=\"https://cdn.cookielaw.org/opt-out/otCCPAiab.js\"\\n        type=\"text/javascript\"\\n        charset=\"UTF-8\"\\n        ccpa-op'"
      ]
     },
     "execution_count": 10,
     "metadata": {},
     "output_type": "execute_result"
    }
   ],
   "source": [
    "page_contents[:1000]"
   ]
  },
  {
   "cell_type": "code",
   "execution_count": 11,
   "metadata": {},
   "outputs": [],
   "source": [
    "#Writing the page contents into a html file\n",
    "with open('top_150_movies_final.html', 'w') as f:\n",
    "    f.write(page_contents)"
   ]
  },
  {
   "cell_type": "markdown",
   "metadata": {},
   "source": [
    "# *Use Beautiful Soup to parse and extract information*\n",
    "### *Beautiful Soup :*\n",
    "                     Beautiful Soup is a Python web scraping library that allows us to parse and scrape HTML and XML pages. You can search, navigate, and modify data using a parser. It's versatile and saves a lot of time. In this article we will learn how to scrape data using Beautiful Soup.\n",
    "![](https://imgur.com/KwrNV3P.png)"
   ]
  },
  {
   "cell_type": "code",
   "execution_count": 12,
   "metadata": {},
   "outputs": [],
   "source": [
    "# Installing the BeautifulSoup-4 library\n",
    "!pip install beautifulsoup4 --upgrade --quiet"
   ]
  },
  {
   "cell_type": "code",
   "execution_count": 13,
   "metadata": {},
   "outputs": [],
   "source": [
    "# Import the BeautifulSoup library\n",
    "from bs4 import BeautifulSoup"
   ]
  },
  {
   "cell_type": "code",
   "execution_count": 14,
   "metadata": {},
   "outputs": [],
   "source": [
    "# Converting the page to  Beautiful soup document using html.parser\n",
    "doc = BeautifulSoup(page_contents, 'html.parser')"
   ]
  },
  {
   "cell_type": "code",
   "execution_count": 15,
   "metadata": {},
   "outputs": [],
   "source": [
    "doc = BeautifulSoup(response.text)"
   ]
  },
  {
   "cell_type": "code",
   "execution_count": 16,
   "metadata": {},
   "outputs": [
    {
     "data": {
      "text/plain": [
       "bs4.BeautifulSoup"
      ]
     },
     "execution_count": 16,
     "metadata": {},
     "output_type": "execute_result"
    }
   ],
   "source": [
    "type(doc)"
   ]
  },
  {
   "cell_type": "markdown",
   "metadata": {},
   "source": [
    "### Webpage going to scrape : Rotten Tomatoes\n",
    "![](https://imgur.com/nMtq6ul.png)"
   ]
  },
  {
   "cell_type": "markdown",
   "metadata": {},
   "source": [
    "### *Create a function to scrape Title,Rating,Year of Release ,Director,Cast,URL,Synopsis,Critics Consensus from the webpage*."
   ]
  },
  {
   "cell_type": "markdown",
   "metadata": {},
   "source": [
    "**1.Title from the webpage**"
   ]
  },
  {
   "cell_type": "code",
   "execution_count": 17,
   "metadata": {},
   "outputs": [],
   "source": [
    "h2_tags = doc.find_all('h2')"
   ]
  },
  {
   "cell_type": "code",
   "execution_count": 18,
   "metadata": {},
   "outputs": [
    {
     "data": {
      "text/plain": [
       "[<h2><a href=\"https://www.rottentomatoes.com/m/1000013_12_angry_men\">12 Angry Men</a> <span class=\"subtle start-year\">(1957)</span> <span class=\"icon tiny certified\" title=\"Certified Fresh\"></span> <span class=\"tMeterScore\">100%</span></h2>,\n",
       " <h2><a href=\"https://www.rottentomatoes.com/m/2001_a_space_odyssey\">2001: A Space Odyssey</a> <span class=\"subtle start-year\">(1968)</span> <span class=\"icon tiny certified\" title=\"Certified Fresh\"></span> <span class=\"tMeterScore\">92%</span></h2>,\n",
       " <h2><a href=\"https://www.rottentomatoes.com/m/400_blows\">The 400 Blows</a> <span class=\"subtle start-year\">(1959)</span> <span class=\"icon tiny certified\" title=\"Certified Fresh\"></span> <span class=\"tMeterScore\">99%</span></h2>,\n",
       " <h2><a href=\"https://www.rottentomatoes.com/m/adventures_of_priscilla_queen_of_the_desert\">The Adventures of Priscilla, Queen of the Desert</a> <span class=\"subtle start-year\">(1994)</span> <span class=\"icon tiny certified\" title=\"Certified Fresh\"></span> <span class=\"tMeterScore\">94%</span></h2>,\n",
       " <h2><a href=\"https://www.rottentomatoes.com/m/1000355-adventures_of_robin_hood\">The Adventures of Robin Hood</a> <span class=\"subtle start-year\">(1938)</span> <span class=\"icon tiny certified\" title=\"Certified Fresh\"></span> <span class=\"tMeterScore\">100%</span></h2>,\n",
       " <h2><a href=\"https://www.rottentomatoes.com/m/aguirre_the_wrath_of_god\">Aguirre: The Wrath of God</a> <span class=\"subtle start-year\">(1972)</span> <span class=\"icon tiny certified\" title=\"Certified Fresh\"></span> <span class=\"tMeterScore\">96%</span></h2>,\n",
       " <h2><a href=\"https://www.rottentomatoes.com/m/airplane\">Airplane!</a> <span class=\"subtle start-year\">(1980)</span> <span class=\"icon tiny certified\" title=\"Certified Fresh\"></span> <span class=\"tMeterScore\">97%</span></h2>,\n",
       " <h2><a href=\"https://www.rottentomatoes.com/m/akira\">Akira</a> <span class=\"subtle start-year\">(1988)</span> <span class=\"icon tiny certified\" title=\"Certified Fresh\"></span> <span class=\"tMeterScore\">91%</span></h2>,\n",
       " <h2><a href=\"https://www.rottentomatoes.com/m/alien\">Alien</a> <span class=\"subtle start-year\">(1979)</span> <span class=\"icon tiny certified\" title=\"Certified Fresh\"></span> <span class=\"tMeterScore\">98%</span></h2>,\n",
       " <h2><a href=\"https://www.rottentomatoes.com/m/1000617-aliens\">Aliens</a> <span class=\"subtle start-year\">(1986)</span> <span class=\"icon tiny certified\" title=\"Certified Fresh\"></span> <span class=\"tMeterScore\">98%</span></h2>,\n",
       " <h2><a href=\"https://www.rottentomatoes.com/m/1000626-all_about_eve\">All About Eve</a> <span class=\"subtle start-year\">(1950)</span> <span class=\"icon tiny certified\" title=\"Certified Fresh\"></span> <span class=\"tMeterScore\">99%</span></h2>,\n",
       " <h2><a href=\"https://www.rottentomatoes.com/m/all_about_my_mother\">All About My Mother</a> <span class=\"subtle start-year\">(1999)</span> <span class=\"icon tiny certified\" title=\"Certified Fresh\"></span> <span class=\"tMeterScore\">98%</span></h2>,\n",
       " <h2><a href=\"https://www.rottentomatoes.com/m/all_the_presidents_men\">All the President's Men</a> <span class=\"subtle start-year\">(1976)</span> <span class=\"icon tiny certified\" title=\"Certified Fresh\"></span> <span class=\"tMeterScore\">94%</span></h2>,\n",
       " <h2><a href=\"https://www.rottentomatoes.com/m/almost_famous\">Almost Famous</a> <span class=\"subtle start-year\">(2000)</span> <span class=\"icon tiny certified\" title=\"Certified Fresh\"></span> <span class=\"tMeterScore\">89%</span></h2>,\n",
       " <h2><a href=\"https://www.rottentomatoes.com/m/amadeus\">Amadeus</a> <span class=\"subtle start-year\">(1984)</span> <span class=\"icon tiny certified\" title=\"Certified Fresh\"></span> <span class=\"tMeterScore\">89%</span></h2>,\n",
       " <h2><a href=\"https://www.rottentomatoes.com/m/amelie\">Amélie</a> <span class=\"subtle start-year\">(2001)</span> <span class=\"icon tiny certified\" title=\"Certified Fresh\"></span> <span class=\"tMeterScore\">89%</span></h2>,\n",
       " <h2><a href=\"https://www.rottentomatoes.com/m/amour_2013\">Amour</a> <span class=\"subtle start-year\">(2012)</span> <span class=\"icon tiny certified\" title=\"Certified Fresh\"></span> <span class=\"tMeterScore\">93%</span></h2>,\n",
       " <h2><a href=\"https://www.rottentomatoes.com/m/american_in_paris\">An American in Paris</a> <span class=\"subtle start-year\">(1951)</span> <span class=\"icon tiny certified\" title=\"Certified Fresh\"></span> <span class=\"tMeterScore\">95%</span></h2>,\n",
       " <h2><a href=\"https://www.rottentomatoes.com/m/annie_hall\">Annie Hall</a> <span class=\"subtle start-year\">(1977)</span> <span class=\"icon tiny certified\" title=\"Certified Fresh\"></span> <span class=\"tMeterScore\">97%</span></h2>,\n",
       " <h2><a href=\"https://www.rottentomatoes.com/m/1001115-apartment\">The Apartment</a> <span class=\"subtle start-year\">(1960)</span> <span class=\"icon tiny certified\" title=\"Certified Fresh\"></span> <span class=\"tMeterScore\">93%</span></h2>,\n",
       " <h2><a href=\"https://www.rottentomatoes.com/m/apocalypse_now\">Apocalypse Now</a> <span class=\"subtle start-year\">(1979)</span> <span class=\"icon tiny certified\" title=\"Certified Fresh\"></span> <span class=\"tMeterScore\">98%</span></h2>,\n",
       " <h2><a href=\"https://www.rottentomatoes.com/m/avengers_endgame\">Avengers: Endgame</a> <span class=\"subtle start-year\">(2019)</span> <span class=\"icon tiny certified\" title=\"Certified Fresh\"></span> <span class=\"tMeterScore\">94%</span></h2>,\n",
       " <h2><a href=\"https://www.rottentomatoes.com/m/back_to_the_future\">Back to the Future</a> <span class=\"subtle start-year\">(1985)</span> <span class=\"icon tiny certified\" title=\"Certified Fresh\"></span> <span class=\"tMeterScore\">93%</span></h2>,\n",
       " <h2><a href=\"https://www.rottentomatoes.com/m/badlands\">Badlands</a> <span class=\"subtle start-year\">(1973)</span> <span class=\"icon tiny certified\" title=\"Certified Fresh\"></span> <span class=\"tMeterScore\">97%</span></h2>,\n",
       " <h2><a href=\"https://www.rottentomatoes.com/m/beauty_and_the_beast_1991\">Beauty and the Beast</a> <span class=\"subtle start-year\">(1991)</span> <span class=\"icon tiny certified\" title=\"Certified Fresh\"></span> <span class=\"tMeterScore\">93%</span></h2>,\n",
       " <h2><a href=\"https://www.rottentomatoes.com/m/being_john_malkovich\">Being John Malkovich</a> <span class=\"subtle start-year\">(1999)</span> <span class=\"icon tiny certified\" title=\"Certified Fresh\"></span> <span class=\"tMeterScore\">94%</span></h2>,\n",
       " <h2><a href=\"https://www.rottentomatoes.com/m/being_there\">Being There</a> <span class=\"subtle start-year\">(1979)</span> <span class=\"icon tiny certified\" title=\"Certified Fresh\"></span> <span class=\"tMeterScore\">95%</span></h2>,\n",
       " <h2><a href=\"https://www.rottentomatoes.com/m/best_years_of_our_lives\">The Best Years of Our Lives</a> <span class=\"subtle start-year\">(1946)</span> <span class=\"icon tiny certified\" title=\"Certified Fresh\"></span> <span class=\"tMeterScore\">97%</span></h2>,\n",
       " <h2><a href=\"https://www.rottentomatoes.com/m/better_luck_tomorrow\">Better Luck Tomorrow</a> <span class=\"subtle start-year\">(2002)</span> <span class=\"icon tiny certified\" title=\"Certified Fresh\"></span> <span class=\"tMeterScore\">81%</span></h2>,\n",
       " <h2><a href=\"https://www.rottentomatoes.com/m/bicycle_thieves\">Bicycle Thieves</a> <span class=\"subtle start-year\">(1948)</span> <span class=\"icon tiny certified\" title=\"Certified Fresh\"></span> <span class=\"tMeterScore\">99%</span></h2>,\n",
       " <h2><a href=\"https://www.rottentomatoes.com/m/the_big_lebowski\">The Big Lebowski</a> <span class=\"subtle start-year\">(1998)</span> <span class=\"icon tiny certified\" title=\"Certified Fresh\"></span> <span class=\"tMeterScore\">80%</span></h2>,\n",
       " <h2><a href=\"https://www.rottentomatoes.com/m/the_big_sick\">The Big Sick</a> <span class=\"subtle start-year\">(2017)</span> <span class=\"icon tiny certified\" title=\"Certified Fresh\"></span> <span class=\"tMeterScore\">98%</span></h2>,\n",
       " <h2><a href=\"https://www.rottentomatoes.com/m/birdman_2014\">Birdman or (The Unexpected Virtue of Ignorance)</a> <span class=\"subtle start-year\">(2014)</span> <span class=\"icon tiny certified\" title=\"Certified Fresh\"></span> <span class=\"tMeterScore\">91%</span></h2>,\n",
       " <h2><a href=\"https://www.rottentomatoes.com/m/black_hawk_down\">Black Hawk Down</a> <span class=\"subtle start-year\">(2001)</span> <span class=\"icon tiny certified\" title=\"Certified Fresh\"></span> <span class=\"tMeterScore\">77%</span></h2>,\n",
       " <h2><a href=\"https://www.rottentomatoes.com/m/black_orpheus\">Black Orpheus</a> <span class=\"subtle start-year\">(1959)</span> <span class=\"icon tiny certified\" title=\"Certified Fresh\"></span> <span class=\"tMeterScore\">87%</span></h2>,\n",
       " <h2><a href=\"https://www.rottentomatoes.com/m/black_panther_2018\">Black Panther</a> <span class=\"subtle start-year\">(2018)</span> <span class=\"icon tiny certified\" title=\"Certified Fresh\"></span> <span class=\"tMeterScore\">96%</span></h2>,\n",
       " <h2><a href=\"https://www.rottentomatoes.com/m/blade_runner\">Blade Runner</a> <span class=\"subtle start-year\">(1982)</span> <span class=\"icon tiny certified\" title=\"Certified Fresh\"></span> <span class=\"tMeterScore\">89%</span></h2>,\n",
       " <h2><a href=\"https://www.rottentomatoes.com/m/blazing_saddles\">Blazing Saddles</a> <span class=\"subtle start-year\">(1974)</span> <span class=\"icon tiny certified\" title=\"Certified Fresh\"></span> <span class=\"tMeterScore\">90%</span></h2>,\n",
       " <h2><a href=\"https://www.rottentomatoes.com/m/boogie_nights\">Boogie Nights</a> <span class=\"subtle start-year\">(1997)</span> <span class=\"icon tiny certified\" title=\"Certified Fresh\"></span> <span class=\"tMeterScore\">94%</span></h2>,\n",
       " <h2><a href=\"https://www.rottentomatoes.com/m/boys_dont_cry\">Boys Don't Cry</a> <span class=\"subtle start-year\">(1999)</span> <span class=\"icon tiny certified\" title=\"Certified Fresh\"></span> <span class=\"tMeterScore\">90%</span></h2>,\n",
       " <h2><a href=\"https://www.rottentomatoes.com/m/boyz_n_the_hood\">Boyz N the Hood</a> <span class=\"subtle start-year\">(1991)</span> <span class=\"icon tiny certified\" title=\"Certified Fresh\"></span> <span class=\"tMeterScore\">96%</span></h2>,\n",
       " <h2><a href=\"https://www.rottentomatoes.com/m/breakfast_club\">The Breakfast Club</a> <span class=\"subtle start-year\">(1985)</span> <span class=\"icon tiny certified\" title=\"Certified Fresh\"></span> <span class=\"tMeterScore\">89%</span></h2>,\n",
       " <h2><a href=\"https://www.rottentomatoes.com/m/breathless\">Breathless</a> <span class=\"subtle start-year\">(1959)</span> <span class=\"icon tiny certified\" title=\"Certified Fresh\"></span> <span class=\"tMeterScore\">96%</span></h2>,\n",
       " <h2><a href=\"https://www.rottentomatoes.com/m/bridesmaids_2011\">Bridesmaids</a> <span class=\"subtle start-year\">(2011)</span> <span class=\"icon tiny certified\" title=\"Certified Fresh\"></span> <span class=\"tMeterScore\">90%</span></h2>,\n",
       " <h2><a href=\"https://www.rottentomatoes.com/m/bridge_on_the_river_kwai\">The Bridge on the River Kwai</a> <span class=\"subtle start-year\">(1957)</span> <span class=\"icon tiny certified\" title=\"Certified Fresh\"></span> <span class=\"tMeterScore\">96%</span></h2>,\n",
       " <h2><a href=\"https://www.rottentomatoes.com/m/bridget_jones_diary\">Bridget Jones's Diary</a> <span class=\"subtle start-year\">(2001)</span> <span class=\"icon tiny certified\" title=\"Certified Fresh\"></span> <span class=\"tMeterScore\">80%</span></h2>,\n",
       " <h2><a href=\"https://www.rottentomatoes.com/m/broadcast_news\">Broadcast News</a> <span class=\"subtle start-year\">(1987)</span> <span class=\"icon tiny certified\" title=\"Certified Fresh\"></span> <span class=\"tMeterScore\">98%</span></h2>,\n",
       " <h2><a href=\"https://www.rottentomatoes.com/m/brokeback_mountain\">Brokeback Mountain</a> <span class=\"subtle start-year\">(2005)</span> <span class=\"icon tiny certified\" title=\"Certified Fresh\"></span> <span class=\"tMeterScore\">88%</span></h2>,\n",
       " <h2><a href=\"https://www.rottentomatoes.com/m/1003318-butch_cassidy_and_the_sundance_kid\">Butch Cassidy and the Sundance Kid</a> <span class=\"subtle start-year\">(1969)</span> <span class=\"icon tiny certified\" title=\"Certified Fresh\"></span> <span class=\"tMeterScore\">90%</span></h2>,\n",
       " <h2><a href=\"https://www.rottentomatoes.com/m/cabaret\">Cabaret</a> <span class=\"subtle start-year\">(1972)</span> <span class=\"icon tiny certified\" title=\"Certified Fresh\"></span> <span class=\"tMeterScore\">92%</span></h2>,\n",
       " <h2><a href=\"https://www.rottentomatoes.com/m/the_cabinet_of_dr_caligari\">The Cabinet of Dr. Caligari</a> <span class=\"subtle start-year\">(1919)</span> <span class=\"icon tiny certified\" title=\"Certified Fresh\"></span> <span class=\"tMeterScore\">96%</span></h2>,\n",
       " <h2><a href=\"https://www.rottentomatoes.com/m/call_me_by_your_name\">Call Me by Your Name</a> <span class=\"subtle start-year\">(2017)</span> <span class=\"icon tiny certified\" title=\"Certified Fresh\"></span> <span class=\"tMeterScore\">94%</span></h2>,\n",
       " <h2><a href=\"https://www.rottentomatoes.com/m/carol\">Carol</a> <span class=\"subtle start-year\">(2015)</span> <span class=\"icon tiny certified\" title=\"Certified Fresh\"></span> <span class=\"tMeterScore\">94%</span></h2>,\n",
       " <h2><a href=\"https://www.rottentomatoes.com/m/1003707-casablanca\">Casablanca</a> <span class=\"subtle start-year\">(1942)</span> <span class=\"icon tiny certified\" title=\"Certified Fresh\"></span> <span class=\"tMeterScore\">99%</span></h2>,\n",
       " <h2><a href=\"https://www.rottentomatoes.com/m/casino_royale\">Casino Royale</a> <span class=\"subtle start-year\">(2006)</span> <span class=\"icon tiny certified\" title=\"Certified Fresh\"></span> <span class=\"tMeterScore\">94%</span></h2>,\n",
       " <h2><a href=\"https://www.rottentomatoes.com/m/children_of_men\">Children of Men</a> <span class=\"subtle start-year\">(2006)</span> <span class=\"icon tiny certified\" title=\"Certified Fresh\"></span> <span class=\"tMeterScore\">92%</span></h2>,\n",
       " <h2><a href=\"https://www.rottentomatoes.com/m/chinatown\">Chinatown</a> <span class=\"subtle start-year\">(1974)</span> <span class=\"icon tiny certified\" title=\"Certified Fresh\"></span> <span class=\"tMeterScore\">99%</span></h2>,\n",
       " <h2><a href=\"https://www.rottentomatoes.com/m/city_of_god\">City of God</a> <span class=\"subtle start-year\">(2002)</span> <span class=\"icon tiny certified\" title=\"Certified Fresh\"></span> <span class=\"tMeterScore\">91%</span></h2>,\n",
       " <h2><a href=\"https://www.rottentomatoes.com/m/cinema_paradiso\">Cinema Paradiso</a> <span class=\"subtle start-year\">(1988)</span> <span class=\"icon tiny certified\" title=\"Certified Fresh\"></span> <span class=\"tMeterScore\">90%</span></h2>,\n",
       " <h2><a href=\"https://www.rottentomatoes.com/m/citizen_kane\">Citizen Kane</a> <span class=\"subtle start-year\">(1941)</span> <span class=\"icon tiny certified\" title=\"Certified Fresh\"></span> <span class=\"tMeterScore\">99%</span></h2>,\n",
       " <h2><a href=\"https://www.rottentomatoes.com/m/city_lights\">City Lights</a> <span class=\"subtle start-year\">(1931)</span> <span class=\"icon tiny certified\" title=\"Certified Fresh\"></span> <span class=\"tMeterScore\">95%</span></h2>,\n",
       " <h2><a href=\"https://www.rottentomatoes.com/m/clerks\">Clerks</a> <span class=\"subtle start-year\">(1994)</span> <span class=\"icon tiny certified\" title=\"Certified Fresh\"></span> <span class=\"tMeterScore\">90%</span></h2>,\n",
       " <h2><a href=\"https://www.rottentomatoes.com/m/clockwork_orange\">A Clockwork Orange</a> <span class=\"subtle start-year\">(1971)</span> <span class=\"icon tiny certified\" title=\"Certified Fresh\"></span> <span class=\"tMeterScore\">88%</span></h2>,\n",
       " <h2><a href=\"https://www.rottentomatoes.com/m/clueless\">Clueless</a> <span class=\"subtle start-year\">(1995)</span> <span class=\"icon tiny certified\" title=\"Certified Fresh\"></span> <span class=\"tMeterScore\">81%</span></h2>,\n",
       " <h2><a href=\"https://www.rottentomatoes.com/m/coco_2017\">Coco</a> <span class=\"subtle start-year\">(2017)</span> <span class=\"icon tiny certified\" title=\"Certified Fresh\"></span> <span class=\"tMeterScore\">97%</span></h2>,\n",
       " <h2><a href=\"https://www.rottentomatoes.com/m/crazy_rich_asians\">Crazy Rich Asians</a> <span class=\"subtle start-year\">(2018)</span> <span class=\"icon tiny certified\" title=\"Certified Fresh\"></span> <span class=\"tMeterScore\">91%</span></h2>,\n",
       " <h2><a href=\"https://www.rottentomatoes.com/m/creed_2015\">Creed</a> <span class=\"subtle start-year\">(2015)</span> <span class=\"icon tiny certified\" title=\"Certified Fresh\"></span> <span class=\"tMeterScore\">95%</span></h2>,\n",
       " <h2><a href=\"https://www.rottentomatoes.com/m/crouching_tiger_hidden_dragon\">Crouching Tiger, Hidden Dragon</a> <span class=\"subtle start-year\">(2000)</span> <span class=\"icon tiny certified\" title=\"Certified Fresh\"></span> <span class=\"tMeterScore\">98%</span></h2>,\n",
       " <h2><a href=\"https://www.rottentomatoes.com/m/the_dark_knight\">The Dark Knight</a> <span class=\"subtle start-year\">(2008)</span> <span class=\"icon tiny certified\" title=\"Certified Fresh\"></span> <span class=\"tMeterScore\">94%</span></h2>,\n",
       " <h2><a href=\"https://www.rottentomatoes.com/m/1005339-dawn_of_the_dead\">Dawn of the Dead</a> <span class=\"subtle start-year\">(1978)</span> <span class=\"icon tiny certified\" title=\"Certified Fresh\"></span> <span class=\"tMeterScore\">93%</span></h2>,\n",
       " <h2><a href=\"https://www.rottentomatoes.com/m/1005371-day_the_earth_stood_still\">The Day the Earth Stood Still</a> <span class=\"subtle start-year\">(1951)</span> <span class=\"icon tiny certified\" title=\"Certified Fresh\"></span> <span class=\"tMeterScore\">95%</span></h2>,\n",
       " <h2><a href=\"https://www.rottentomatoes.com/m/dazed_and_confused\">Dazed and Confused</a> <span class=\"subtle start-year\">(1993)</span> <span class=\"icon tiny certified\" title=\"Certified Fresh\"></span> <span class=\"tMeterScore\">92%</span></h2>,\n",
       " <h2><a href=\"https://www.rottentomatoes.com/m/dead_poets_society\">Dead Poets Society</a> <span class=\"subtle start-year\">(1989)</span> <span class=\"icon tiny certified\" title=\"Certified Fresh\"></span> <span class=\"tMeterScore\">84%</span></h2>,\n",
       " <h2><a href=\"https://www.rottentomatoes.com/m/die_hard\">Die Hard</a> <span class=\"subtle start-year\">(1988)</span> <span class=\"icon tiny certified\" title=\"Certified Fresh\"></span> <span class=\"tMeterScore\">94%</span></h2>,\n",
       " <h2><a href=\"https://www.rottentomatoes.com/m/do_the_right_thing\">Do the Right Thing</a> <span class=\"subtle start-year\">(1989)</span> <span class=\"icon tiny certified\" title=\"Certified Fresh\"></span> <span class=\"tMeterScore\">92%</span></h2>,\n",
       " <h2><a href=\"https://www.rottentomatoes.com/m/1006037-doctor_zhivago\">Doctor Zhivago</a> <span class=\"subtle start-year\">(1965)</span> <span class=\"icon tiny certified\" title=\"Certified Fresh\"></span> <span class=\"tMeterScore\">84%</span></h2>,\n",
       " <h2><a href=\"https://www.rottentomatoes.com/m/dog_day_afternoon\">Dog Day Afternoon</a> <span class=\"subtle start-year\">(1975)</span> <span class=\"icon tiny certified\" title=\"Certified Fresh\"></span> <span class=\"tMeterScore\">96%</span></h2>,\n",
       " <h2><a href=\"https://www.rottentomatoes.com/m/dont_look_now\">Don't Look Now</a> <span class=\"subtle start-year\">(1973)</span> <span class=\"icon tiny certified\" title=\"Certified Fresh\"></span> <span class=\"tMeterScore\">94%</span></h2>,\n",
       " <h2><a href=\"https://www.rottentomatoes.com/m/double_indemnity\">Double Indemnity</a> <span class=\"subtle start-year\">(1944)</span> <span class=\"icon tiny certified\" title=\"Certified Fresh\"></span> <span class=\"tMeterScore\">97%</span></h2>,\n",
       " <h2><a href=\"https://www.rottentomatoes.com/m/dr_strangelove\">Dr. Strangelove Or: How I Learned to Stop Worrying and Love the Bomb</a> <span class=\"subtle start-year\">(1964)</span> <span class=\"icon tiny certified\" title=\"Certified Fresh\"></span> <span class=\"tMeterScore\">98%</span></h2>,\n",
       " <h2><a href=\"https://www.rottentomatoes.com/m/1006234-dracula\">Dracula</a> <span class=\"subtle start-year\">(1931)</span> <span class=\"icon tiny certified\" title=\"Certified Fresh\"></span> <span class=\"tMeterScore\">94%</span></h2>,\n",
       " <h2><a href=\"https://www.rottentomatoes.com/m/drive_2011\">Drive</a> <span class=\"subtle start-year\">(2011)</span> <span class=\"icon tiny certified\" title=\"Certified Fresh\"></span> <span class=\"tMeterScore\">93%</span></h2>,\n",
       " <h2><a href=\"https://www.rottentomatoes.com/m/legend_of_drunken_master\">Drunken Master II</a> <span class=\"subtle start-year\">(1994)</span> <span class=\"icon tiny certified\" title=\"Certified Fresh\"></span> <span class=\"tMeterScore\">84%</span></h2>,\n",
       " <h2><a href=\"https://www.rottentomatoes.com/m/duck_soup\">Duck Soup</a> <span class=\"subtle start-year\">(1933)</span> <span class=\"icon tiny certified\" title=\"Certified Fresh\"></span> <span class=\"tMeterScore\">91%</span></h2>,\n",
       " <h2><a href=\"https://www.rottentomatoes.com/m/et_the_extraterrestrial\">E.T. the Extra-Terrestrial</a> <span class=\"subtle start-year\">(1982)</span> <span class=\"icon tiny certified\" title=\"Certified Fresh\"></span> <span class=\"tMeterScore\">99%</span></h2>,\n",
       " <h2><a href=\"https://www.rottentomatoes.com/m/easy_rider\">Easy Rider</a> <span class=\"subtle start-year\">(1969)</span> <span class=\"icon tiny certified\" title=\"Certified Fresh\"></span> <span class=\"tMeterScore\">84%</span></h2>,\n",
       " <h2><a href=\"https://www.rottentomatoes.com/m/edward_scissorhands\">Edward Scissorhands</a> <span class=\"subtle start-year\">(1990)</span> <span class=\"icon tiny certified\" title=\"Certified Fresh\"></span> <span class=\"tMeterScore\">89%</span></h2>,\n",
       " <h2><a href=\"https://www.rottentomatoes.com/m/election\">Election</a> <span class=\"subtle start-year\">(1999)</span> <span class=\"icon tiny certified\" title=\"Certified Fresh\"></span> <span class=\"tMeterScore\">92%</span></h2>,\n",
       " <h2><a href=\"https://www.rottentomatoes.com/m/1006527-elephant_man\">The Elephant Man</a> <span class=\"subtle start-year\">(1980)</span> <span class=\"icon tiny certified\" title=\"Certified Fresh\"></span> <span class=\"tMeterScore\">92%</span></h2>,\n",
       " <h2><a href=\"https://www.rottentomatoes.com/m/enter_the_dragon\">Enter the Dragon</a> <span class=\"subtle start-year\">(1973)</span> <span class=\"icon tiny certified\" title=\"Certified Fresh\"></span> <span class=\"tMeterScore\">88%</span></h2>,\n",
       " <h2><a href=\"https://www.rottentomatoes.com/m/eternal_sunshine_of_the_spotless_mind\">Eternal Sunshine of the Spotless Mind</a> <span class=\"subtle start-year\">(2004)</span> <span class=\"icon tiny certified\" title=\"Certified Fresh\"></span> <span class=\"tMeterScore\">92%</span></h2>,\n",
       " <h2><a href=\"https://www.rottentomatoes.com/m/evil_dead_2_dead_by_dawn\">Evil Dead 2</a> <span class=\"subtle start-year\">(1987)</span> <span class=\"icon tiny certified\" title=\"Certified Fresh\"></span> <span class=\"tMeterScore\">88%</span></h2>,\n",
       " <h2><a href=\"https://www.rottentomatoes.com/m/exorcist\">The Exorcist</a> <span class=\"subtle start-year\">(1973)</span> <span class=\"icon tiny certified\" title=\"Certified Fresh\"></span> <span class=\"tMeterScore\">84%</span></h2>,\n",
       " <h2><a href=\"https://www.rottentomatoes.com/m/the_farewell_2019\">The Farewell</a> <span class=\"subtle start-year\">(2019)</span> <span class=\"icon tiny certified\" title=\"Certified Fresh\"></span> <span class=\"tMeterScore\">97%</span></h2>,\n",
       " <h2><a href=\"https://www.rottentomatoes.com/m/fargo\">Fargo</a> <span class=\"subtle start-year\">(1996)</span> <span class=\"icon tiny certified\" title=\"Certified Fresh\"></span> <span class=\"tMeterScore\">94%</span></h2>,\n",
       " <h2><a href=\"https://www.rottentomatoes.com/m/fast_five\">Fast Five</a> <span class=\"subtle start-year\">(2011)</span> <span class=\"icon tiny certified\" title=\"Certified Fresh\"></span> <span class=\"tMeterScore\">78%</span></h2>,\n",
       " <h2><a href=\"https://www.rottentomatoes.com/m/fast_times_at_ridgemont_high\">Fast Times at Ridgemont High</a> <span class=\"subtle start-year\">(1982)</span> <span class=\"icon tiny certified\" title=\"Certified Fresh\"></span> <span class=\"tMeterScore\">78%</span></h2>,\n",
       " <h2><a href=\"https://www.rottentomatoes.com/m/fight_club\">Fight Club</a> <span class=\"subtle start-year\">(1999)</span> <span class=\"icon tiny certified\" title=\"Certified Fresh\"></span> <span class=\"tMeterScore\">79%</span></h2>,\n",
       " <h2><a href=\"https://www.rottentomatoes.com/m/fish_tank\">Fish Tank</a> <span class=\"subtle start-year\">(2009)</span> <span class=\"icon tiny certified\" title=\"Certified Fresh\"></span> <span class=\"tMeterScore\">91%</span></h2>,\n",
       " <h2><a href=\"https://www.rottentomatoes.com/m/forbidden_planet\">Forbidden Planet</a> <span class=\"subtle start-year\">(1956)</span> <span class=\"icon tiny certified\" title=\"Certified Fresh\"></span> <span class=\"tMeterScore\">96%</span></h2>,\n",
       " <h2><a href=\"https://www.rottentomatoes.com/m/four_weddings_and_a_funeral\">Four Weddings and a Funeral</a> <span class=\"subtle start-year\">(1994)</span> <span class=\"icon tiny certified\" title=\"Certified Fresh\"></span> <span class=\"tMeterScore\">96%</span></h2>,\n",
       " <h2><a href=\"https://www.rottentomatoes.com/m/1007818-frankenstein\">Frankenstein</a> <span class=\"subtle start-year\">(1931)</span> <span class=\"icon tiny certified\" title=\"Certified Fresh\"></span> <span class=\"tMeterScore\">94%</span></h2>,\n",
       " <h2><a href=\"https://www.rottentomatoes.com/m/french_connection\">The French Connection</a> <span class=\"subtle start-year\">(1971)</span> <span class=\"icon tiny certified\" title=\"Certified Fresh\"></span> <span class=\"tMeterScore\">96%</span></h2>,\n",
       " <h2><a href=\"https://www.rottentomatoes.com/m/frida\">Frida</a> <span class=\"subtle start-year\">(2002)</span> <span class=\"icon tiny certified\" title=\"Certified Fresh\"></span> <span class=\"tMeterScore\">76%</span></h2>,\n",
       " <h2><a href=\"https://www.rottentomatoes.com/m/1008074-gallipoli\">Gallipoli</a> <span class=\"subtle start-year\">(1981)</span> <span class=\"icon tiny certified\" title=\"Certified Fresh\"></span> <span class=\"tMeterScore\">91%</span></h2>,\n",
       " <h2><a href=\"https://www.rottentomatoes.com/m/gandhi\">Gandhi</a> <span class=\"subtle start-year\">(1982)</span> <span class=\"icon tiny certified\" title=\"Certified Fresh\"></span> <span class=\"tMeterScore\">89%</span></h2>,\n",
       " <h2><a href=\"https://www.rottentomatoes.com/m/gattaca\">Gattaca</a> <span class=\"subtle start-year\">(1997)</span> <span class=\"icon tiny certified\" title=\"Certified Fresh\"></span> <span class=\"tMeterScore\">82%</span></h2>,\n",
       " <h2><a href=\"https://www.rottentomatoes.com/m/1008166-general\">The General</a> <span class=\"subtle start-year\">(1926)</span> <span class=\"icon tiny certified\" title=\"Certified Fresh\"></span> <span class=\"tMeterScore\">92%</span></h2>,\n",
       " <h2><a href=\"https://www.rottentomatoes.com/m/get_out\">Get Out</a> <span class=\"subtle start-year\">(2017)</span> <span class=\"icon tiny certified\" title=\"Certified Fresh\"></span> <span class=\"tMeterScore\">98%</span></h2>,\n",
       " <h2><a href=\"https://www.rottentomatoes.com/m/ghost_in_the_shell\">Ghost in the Shell</a> <span class=\"subtle start-year\">(1995)</span> <span class=\"icon tiny certified\" title=\"Certified Fresh\"></span> <span class=\"tMeterScore\">95%</span></h2>,\n",
       " <h2><a href=\"https://www.rottentomatoes.com/m/ghostbusters\">Ghostbusters</a> <span class=\"subtle start-year\">(1984)</span> <span class=\"icon tiny certified\" title=\"Certified Fresh\"></span> <span class=\"tMeterScore\">95%</span></h2>,\n",
       " <h2><a href=\"https://www.rottentomatoes.com/m/girls_trip\">Girls Trip</a> <span class=\"subtle start-year\">(2017)</span> <span class=\"icon tiny certified\" title=\"Certified Fresh\"></span> <span class=\"tMeterScore\">92%</span></h2>,\n",
       " <h2><a href=\"https://www.rottentomatoes.com/m/the_godfather\">The Godfather</a> <span class=\"subtle start-year\">(1972)</span> <span class=\"icon tiny certified\" title=\"Certified Fresh\"></span> <span class=\"tMeterScore\">97%</span></h2>,\n",
       " <h2><a href=\"https://www.rottentomatoes.com/m/godfather_part_ii\">The Godfather, Part II</a> <span class=\"subtle start-year\">(1974)</span> <span class=\"icon tiny certified\" title=\"Certified Fresh\"></span> <span class=\"tMeterScore\">96%</span></h2>,\n",
       " <h2><a href=\"https://www.rottentomatoes.com/m/godzilla_1956\">Godzilla</a> <span class=\"subtle start-year\">(1954)</span> <span class=\"icon tiny certified\" title=\"Certified Fresh\"></span> <span class=\"tMeterScore\">93%</span></h2>,\n",
       " <h2><a href=\"https://www.rottentomatoes.com/m/goldfinger\">007: Goldfinger</a> <span class=\"subtle start-year\">(1964)</span> <span class=\"icon tiny certified\" title=\"Certified Fresh\"></span> <span class=\"tMeterScore\">99%</span></h2>,\n",
       " <h2><a href=\"https://www.rottentomatoes.com/m/the_good_the_bad_and_the_ugly\">The Good, the Bad and the Ugly</a> <span class=\"subtle start-year\">(1967)</span> <span class=\"icon tiny certified\" title=\"Certified Fresh\"></span> <span class=\"tMeterScore\">97%</span></h2>,\n",
       " <h2><a href=\"https://www.rottentomatoes.com/m/1032176-goodfellas\">Goodfellas</a> <span class=\"subtle start-year\">(1990)</span> <span class=\"icon tiny certified\" title=\"Certified Fresh\"></span> <span class=\"tMeterScore\">96%</span></h2>,\n",
       " <h2><a href=\"https://www.rottentomatoes.com/m/the_grand_budapest_hotel\">The Grand Budapest Hotel</a> <span class=\"subtle start-year\">(2014)</span> <span class=\"icon tiny certified\" title=\"Certified Fresh\"></span> <span class=\"tMeterScore\">92%</span></h2>,\n",
       " <h2><a href=\"https://www.rottentomatoes.com/m/la_grande_illusion\">Grand Illusion</a> <span class=\"subtle start-year\">(1937)</span> <span class=\"icon tiny certified\" title=\"Certified Fresh\"></span> <span class=\"tMeterScore\">97%</span></h2>,\n",
       " <h2><a href=\"https://www.rottentomatoes.com/m/grapes_of_wrath\">The Grapes of Wrath</a> <span class=\"subtle start-year\">(1940)</span> <span class=\"icon tiny certified\" title=\"Certified Fresh\"></span> <span class=\"tMeterScore\">100%</span></h2>,\n",
       " <h2><a href=\"https://www.rottentomatoes.com/m/grease\">Grease</a> <span class=\"subtle start-year\">(1978)</span> <span class=\"icon tiny certified\" title=\"Certified Fresh\"></span> <span class=\"tMeterScore\">77%</span></h2>,\n",
       " <h2><a href=\"https://www.rottentomatoes.com/m/the_great_escape\">The Great Escape</a> <span class=\"subtle start-year\">(1963)</span> <span class=\"icon tiny certified\" title=\"Certified Fresh\"></span> <span class=\"tMeterScore\">94%</span></h2>,\n",
       " <h2><a href=\"https://www.rottentomatoes.com/m/groundhog_day\">Groundhog Day</a> <span class=\"subtle start-year\">(1993)</span> <span class=\"icon tiny certified\" title=\"Certified Fresh\"></span> <span class=\"tMeterScore\">94%</span></h2>,\n",
       " <h2><a href=\"https://www.rottentomatoes.com/m/guardians_of_the_galaxy\">Guardians of the Galaxy</a> <span class=\"subtle start-year\">(2014)</span> <span class=\"icon tiny certified\" title=\"Certified Fresh\"></span> <span class=\"tMeterScore\">92%</span></h2>,\n",
       " <h2><a href=\"https://www.rottentomatoes.com/m/hairspray_1988\">Hairspray</a> <span class=\"subtle start-year\">(1988)</span> <span class=\"icon tiny certified\" title=\"Certified Fresh\"></span> <span class=\"tMeterScore\">98%</span></h2>,\n",
       " <h2><a href=\"https://www.rottentomatoes.com/m/1009113-halloween\">Halloween</a> <span class=\"subtle start-year\">(1978)</span> <span class=\"icon tiny certified\" title=\"Certified Fresh\"></span> <span class=\"tMeterScore\">96%</span></h2>,\n",
       " <h2><a href=\"https://www.rottentomatoes.com/m/beatles_a_hard_days_night\">A Hard Day's Night</a> <span class=\"subtle start-year\">(1964)</span> <span class=\"icon tiny certified\" title=\"Certified Fresh\"></span> <span class=\"tMeterScore\">98%</span></h2>,\n",
       " <h2><a href=\"https://www.rottentomatoes.com/m/harold_and_maude\">Harold and Maude</a> <span class=\"subtle start-year\">(1971)</span> <span class=\"icon tiny certified\" title=\"Certified Fresh\"></span> <span class=\"tMeterScore\">86%</span></h2>,\n",
       " <h2><a href=\"https://www.rottentomatoes.com/m/harry_potter_and_the_prisoner_of_azkaban\">Harry Potter and the Prisoner of Azkaban</a> <span class=\"subtle start-year\">(2004)</span> <span class=\"icon tiny certified\" title=\"Certified Fresh\"></span> <span class=\"tMeterScore\">90%</span></h2>,\n",
       " <h2><a href=\"https://www.rottentomatoes.com/m/the_hate_u_give\">The Hate U Give</a> <span class=\"subtle start-year\">(2018)</span> <span class=\"icon tiny certified\" title=\"Certified Fresh\"></span> <span class=\"tMeterScore\">97%</span></h2>,\n",
       " <h2><a href=\"https://www.rottentomatoes.com/m/heat_1995\">Heat</a> <span class=\"subtle start-year\">(1995)</span> <span class=\"icon tiny certified\" title=\"Certified Fresh\"></span> <span class=\"tMeterScore\">88%</span></h2>,\n",
       " <h2><a href=\"https://www.rottentomatoes.com/m/heathers\">Heathers</a> <span class=\"subtle start-year\">(1989)</span> <span class=\"icon tiny certified\" title=\"Certified Fresh\"></span> <span class=\"tMeterScore\">93%</span></h2>,\n",
       " <h2><a href=\"https://www.rottentomatoes.com/m/hedwig_and_the_angry_inch\">Hedwig and the Angry Inch</a> <span class=\"subtle start-year\">(2001)</span> <span class=\"icon tiny certified\" title=\"Certified Fresh\"></span> <span class=\"tMeterScore\">92%</span></h2>,\n",
       " <h2><a href=\"https://www.rottentomatoes.com/m/hero\">Hero</a> <span class=\"subtle start-year\">(2002)</span> <span class=\"icon tiny certified\" title=\"Certified Fresh\"></span> <span class=\"tMeterScore\">94%</span></h2>,\n",
       " <h2><a href=\"https://www.rottentomatoes.com/m/1046060-high_noon\">High Noon</a> <span class=\"subtle start-year\">(1952)</span> <span class=\"icon tiny certified\" title=\"Certified Fresh\"></span> <span class=\"tMeterScore\">94%</span></h2>,\n",
       " <h2><a href=\"https://www.rottentomatoes.com/m/his_girl_friday\">His Girl Friday</a> <span class=\"subtle start-year\">(1940)</span> <span class=\"icon tiny certified\" title=\"Certified Fresh\"></span> <span class=\"tMeterScore\">99%</span></h2>,\n",
       " <h2><a href=\"https://www.rottentomatoes.com/m/the_hunt_2013\">The Hunt</a> <span class=\"subtle start-year\">(2012)</span> <span class=\"icon tiny certified\" title=\"Certified Fresh\"></span> <span class=\"tMeterScore\">92%</span></h2>,\n",
       " <h2><a href=\"https://www.rottentomatoes.com/m/ikiru\">Ikiru</a> <span class=\"subtle start-year\">(1952)</span> <span class=\"icon tiny certified\" title=\"Certified Fresh\"></span> <span class=\"tMeterScore\">98%</span></h2>,\n",
       " <h2><a href=\"https://www.rottentomatoes.com/m/in_the_heat_of_the_night\">In the Heat of the Night</a> <span class=\"subtle start-year\">(1967)</span> <span class=\"icon tiny certified\" title=\"Certified Fresh\"></span> <span class=\"tMeterScore\">96%</span></h2>,\n",
       " <h2><a href=\"https://www.rottentomatoes.com/m/in_the_mood_for_love_2001\">In the Mood for Love</a> <span class=\"subtle start-year\">(2000)</span> <span class=\"icon tiny certified\" title=\"Certified Fresh\"></span> <span class=\"tMeterScore\">92%</span></h2>,\n",
       " <h2><a href=\"https://www.rottentomatoes.com/m/inception\">Inception</a> <span class=\"subtle start-year\">(2010)</span> <span class=\"icon tiny certified\" title=\"Certified Fresh\"></span> <span class=\"tMeterScore\">87%</span></h2>,\n",
       " <h2><a href=\"https://www.rottentomatoes.com/m/inglourious_basterds\">Inglourious Basterds</a> <span class=\"subtle start-year\">(2009)</span> <span class=\"icon tiny certified\" title=\"Certified Fresh\"></span> <span class=\"tMeterScore\">89%</span></h2>,\n",
       " <h2><a href=\"https://www.rottentomatoes.com/m/inside_out_2015\">Inside Out</a> <span class=\"subtle start-year\">(2015)</span> <span class=\"icon tiny certified\" title=\"Certified Fresh\"></span> <span class=\"tMeterScore\">98%</span></h2>,\n",
       " <h2><a href=\"https://www.rottentomatoes.com/m/iron_giant\">The Iron Giant</a> <span class=\"subtle start-year\">(1999)</span> <span class=\"icon tiny certified\" title=\"Certified Fresh\"></span> <span class=\"tMeterScore\">96%</span></h2>,\n",
       " <h2><a href=\"https://www.rottentomatoes.com/m/iron_man\">Iron Man</a> <span class=\"subtle start-year\">(2008)</span> <span class=\"icon tiny certified\" title=\"Certified Fresh\"></span> <span class=\"tMeterScore\">94%</span></h2>,\n",
       " <h2><a href=\"https://www.rottentomatoes.com/m/it_happened_one_night\">It Happened One Night</a> <span class=\"subtle start-year\">(1934)</span> <span class=\"icon tiny certified\" title=\"Certified Fresh\"></span> <span class=\"tMeterScore\">98%</span></h2>,\n",
       " <h2><a href=\"https://www.rottentomatoes.com/m/its_a_wonderful_life\">It's a Wonderful Life</a> <span class=\"subtle start-year\">(1946)</span> <span class=\"icon tiny certified\" title=\"Certified Fresh\"></span> <span class=\"tMeterScore\">94%</span></h2>,\n",
       " <h2><a href=\"https://www.rottentomatoes.com/m/jaws\">Jaws</a> <span class=\"subtle start-year\">(1975)</span> <span class=\"icon tiny certified\" title=\"Certified Fresh\"></span> <span class=\"tMeterScore\">97%</span></h2>,\n",
       " <h2><a href=\"https://www.rottentomatoes.com/m/john_wick\">John Wick</a> <span class=\"subtle start-year\">(2014)</span> <span class=\"icon tiny certified\" title=\"Certified Fresh\"></span> <span class=\"tMeterScore\">86%</span></h2>,\n",
       " <h2 class=\"panel-heading\"><a href=\"https://editorial.rottentomatoes.com/countdown/\" style=\"text-decoration:none; color:#1C1C1C;\">More Countdown</a></h2>,\n",
       " <h2 class=\"panel-heading\">Movie &amp; TV News</h2>,\n",
       " <h2>Featured on RT</h2>]"
      ]
     },
     "execution_count": 18,
     "metadata": {},
     "output_type": "execute_result"
    }
   ],
   "source": [
    "h2_tags[:-1]"
   ]
  },
  {
   "cell_type": "markdown",
   "metadata": {},
   "source": [
    "![](https://imgur.com/cAfu9NU.png)"
   ]
  },
  {
   "cell_type": "code",
   "execution_count": 19,
   "metadata": {},
   "outputs": [],
   "source": [
    "a_tags = doc.find_all('a')"
   ]
  },
  {
   "cell_type": "code",
   "execution_count": 20,
   "metadata": {},
   "outputs": [
    {
     "data": {
      "text/plain": [
       "'Sidney Lumet'"
      ]
     },
     "execution_count": 20,
     "metadata": {},
     "output_type": "execute_result"
    }
   ],
   "source": [
    "a_tags[45].text"
   ]
  },
  {
   "cell_type": "code",
   "execution_count": 21,
   "metadata": {},
   "outputs": [],
   "source": [
    "# Define a funtion to get movie title from the webpage \n",
    "def get_movie_titles(doc):\n",
    "    movie_tag = doc.find_all('div', {'class' :'article_movie_title' })\n",
    "\n",
    "    movie_titles = []\n",
    "    for movie_title_tag in movie_tag:\n",
    "        movie_titles.append(movie_title_tag('a')[0].text)\n",
    "\n",
    "    return movie_titles"
   ]
  },
  {
   "cell_type": "code",
   "execution_count": 22,
   "metadata": {},
   "outputs": [
    {
     "data": {
      "text/plain": [
       "['12 Angry Men',\n",
       " '2001: A Space Odyssey',\n",
       " 'The 400 Blows',\n",
       " 'The Adventures of Priscilla, Queen of the Desert',\n",
       " 'The Adventures of Robin Hood',\n",
       " 'Aguirre: The Wrath of God',\n",
       " 'Airplane!',\n",
       " 'Akira',\n",
       " 'Alien',\n",
       " 'Aliens',\n",
       " 'All About Eve',\n",
       " 'All About My Mother',\n",
       " \"All the President's Men\",\n",
       " 'Almost Famous',\n",
       " 'Amadeus',\n",
       " 'Amélie',\n",
       " 'Amour',\n",
       " 'An American in Paris',\n",
       " 'Annie Hall',\n",
       " 'The Apartment',\n",
       " 'Apocalypse Now',\n",
       " 'Avengers: Endgame',\n",
       " 'Back to the Future',\n",
       " 'Badlands',\n",
       " 'Beauty and the Beast',\n",
       " 'Being John Malkovich',\n",
       " 'Being There',\n",
       " 'The Best Years of Our Lives',\n",
       " 'Better Luck Tomorrow',\n",
       " 'Bicycle Thieves',\n",
       " 'The Big Lebowski',\n",
       " 'The Big Sick',\n",
       " 'Birdman or (The Unexpected Virtue of Ignorance)',\n",
       " 'Black Hawk Down',\n",
       " 'Black Orpheus',\n",
       " 'Black Panther',\n",
       " 'Blade Runner',\n",
       " 'Blazing Saddles',\n",
       " 'Boogie Nights',\n",
       " \"Boys Don't Cry\",\n",
       " 'Boyz N the Hood',\n",
       " 'The Breakfast Club',\n",
       " 'Breathless',\n",
       " 'Bridesmaids',\n",
       " 'The Bridge on the River Kwai',\n",
       " \"Bridget Jones's Diary\",\n",
       " 'Broadcast News',\n",
       " 'Brokeback Mountain',\n",
       " 'Butch Cassidy and the Sundance Kid',\n",
       " 'Cabaret',\n",
       " 'The Cabinet of Dr. Caligari',\n",
       " 'Call Me by Your Name',\n",
       " 'Carol',\n",
       " 'Casablanca',\n",
       " 'Casino Royale',\n",
       " 'Children of Men',\n",
       " 'Chinatown',\n",
       " 'City of God',\n",
       " 'Cinema Paradiso',\n",
       " 'Citizen Kane',\n",
       " 'City Lights',\n",
       " 'Clerks',\n",
       " 'A Clockwork Orange',\n",
       " 'Clueless',\n",
       " 'Coco',\n",
       " 'Crazy Rich Asians',\n",
       " 'Creed',\n",
       " 'Crouching Tiger, Hidden Dragon',\n",
       " 'The Dark Knight',\n",
       " 'Dawn of the Dead',\n",
       " 'The Day the Earth Stood Still',\n",
       " 'Dazed and Confused',\n",
       " 'Dead Poets Society',\n",
       " 'Die Hard',\n",
       " 'Do the Right Thing',\n",
       " 'Doctor Zhivago',\n",
       " 'Dog Day Afternoon',\n",
       " \"Don't Look Now\",\n",
       " 'Double Indemnity',\n",
       " 'Dr. Strangelove Or: How I Learned to Stop Worrying and Love the Bomb',\n",
       " 'Dracula',\n",
       " 'Drive',\n",
       " 'Drunken Master II',\n",
       " 'Duck Soup',\n",
       " 'E.T. the Extra-Terrestrial',\n",
       " 'Easy Rider',\n",
       " 'Edward Scissorhands',\n",
       " 'Election',\n",
       " 'The Elephant Man',\n",
       " 'Enter the Dragon',\n",
       " 'Eternal Sunshine of the Spotless Mind',\n",
       " 'Evil Dead 2',\n",
       " 'The Exorcist',\n",
       " 'The Farewell',\n",
       " 'Fargo',\n",
       " 'Fast Five',\n",
       " 'Fast Times at Ridgemont High',\n",
       " 'Fight Club',\n",
       " 'Fish Tank',\n",
       " 'Forbidden Planet',\n",
       " 'Four Weddings and a Funeral',\n",
       " 'Frankenstein',\n",
       " 'The French Connection',\n",
       " 'Frida',\n",
       " 'Gallipoli',\n",
       " 'Gandhi',\n",
       " 'Gattaca',\n",
       " 'The General',\n",
       " 'Get Out',\n",
       " 'Ghost in the Shell',\n",
       " 'Ghostbusters',\n",
       " 'Girls Trip',\n",
       " 'The Godfather',\n",
       " 'The Godfather, Part II',\n",
       " 'Godzilla',\n",
       " '007: Goldfinger',\n",
       " 'The Good, the Bad and the Ugly',\n",
       " 'Goodfellas',\n",
       " 'The Grand Budapest Hotel',\n",
       " 'Grand Illusion',\n",
       " 'The Grapes of Wrath',\n",
       " 'Grease',\n",
       " 'The Great Escape',\n",
       " 'Groundhog Day',\n",
       " 'Guardians of the Galaxy',\n",
       " 'Hairspray',\n",
       " 'Halloween',\n",
       " \"A Hard Day's Night\",\n",
       " 'Harold and Maude',\n",
       " 'Harry Potter and the Prisoner of Azkaban',\n",
       " 'The Hate U Give',\n",
       " 'Heat',\n",
       " 'Heathers',\n",
       " 'Hedwig and the Angry Inch',\n",
       " 'Hero',\n",
       " 'High Noon',\n",
       " 'His Girl Friday',\n",
       " 'The Hunt',\n",
       " 'Ikiru',\n",
       " 'In the Heat of the Night',\n",
       " 'In the Mood for Love',\n",
       " 'Inception',\n",
       " 'Inglourious Basterds',\n",
       " 'Inside Out',\n",
       " 'The Iron Giant',\n",
       " 'Iron Man',\n",
       " 'It Happened One Night',\n",
       " \"It's a Wonderful Life\",\n",
       " 'Jaws',\n",
       " 'John Wick']"
      ]
     },
     "execution_count": 22,
     "metadata": {},
     "output_type": "execute_result"
    }
   ],
   "source": [
    "get_movie_titles(doc)"
   ]
  },
  {
   "cell_type": "code",
   "execution_count": 23,
   "metadata": {},
   "outputs": [
    {
     "data": {
      "text/plain": [
       "150"
      ]
     },
     "execution_count": 23,
     "metadata": {},
     "output_type": "execute_result"
    }
   ],
   "source": [
    "len(get_movie_titles(doc))"
   ]
  },
  {
   "cell_type": "code",
   "execution_count": 24,
   "metadata": {},
   "outputs": [
    {
     "data": {
      "text/plain": [
       "['12 Angry Men',\n",
       " '2001: A Space Odyssey',\n",
       " 'The 400 Blows',\n",
       " 'The Adventures of Priscilla, Queen of the Desert',\n",
       " 'The Adventures of Robin Hood',\n",
       " 'Aguirre: The Wrath of God',\n",
       " 'Airplane!',\n",
       " 'Akira',\n",
       " 'Alien',\n",
       " 'Aliens',\n",
       " 'All About Eve',\n",
       " 'All About My Mother',\n",
       " \"All the President's Men\",\n",
       " 'Almost Famous',\n",
       " 'Amadeus',\n",
       " 'Amélie',\n",
       " 'Amour',\n",
       " 'An American in Paris',\n",
       " 'Annie Hall',\n",
       " 'The Apartment',\n",
       " 'Apocalypse Now',\n",
       " 'Avengers: Endgame',\n",
       " 'Back to the Future',\n",
       " 'Badlands',\n",
       " 'Beauty and the Beast',\n",
       " 'Being John Malkovich',\n",
       " 'Being There',\n",
       " 'The Best Years of Our Lives',\n",
       " 'Better Luck Tomorrow',\n",
       " 'Bicycle Thieves',\n",
       " 'The Big Lebowski',\n",
       " 'The Big Sick',\n",
       " 'Birdman or (The Unexpected Virtue of Ignorance)',\n",
       " 'Black Hawk Down',\n",
       " 'Black Orpheus',\n",
       " 'Black Panther',\n",
       " 'Blade Runner',\n",
       " 'Blazing Saddles',\n",
       " 'Boogie Nights',\n",
       " \"Boys Don't Cry\",\n",
       " 'Boyz N the Hood',\n",
       " 'The Breakfast Club',\n",
       " 'Breathless',\n",
       " 'Bridesmaids',\n",
       " 'The Bridge on the River Kwai',\n",
       " \"Bridget Jones's Diary\",\n",
       " 'Broadcast News',\n",
       " 'Brokeback Mountain',\n",
       " 'Butch Cassidy and the Sundance Kid',\n",
       " 'Cabaret',\n",
       " 'The Cabinet of Dr. Caligari',\n",
       " 'Call Me by Your Name',\n",
       " 'Carol',\n",
       " 'Casablanca',\n",
       " 'Casino Royale',\n",
       " 'Children of Men',\n",
       " 'Chinatown',\n",
       " 'City of God',\n",
       " 'Cinema Paradiso',\n",
       " 'Citizen Kane',\n",
       " 'City Lights',\n",
       " 'Clerks',\n",
       " 'A Clockwork Orange',\n",
       " 'Clueless',\n",
       " 'Coco',\n",
       " 'Crazy Rich Asians',\n",
       " 'Creed',\n",
       " 'Crouching Tiger, Hidden Dragon',\n",
       " 'The Dark Knight',\n",
       " 'Dawn of the Dead',\n",
       " 'The Day the Earth Stood Still',\n",
       " 'Dazed and Confused',\n",
       " 'Dead Poets Society',\n",
       " 'Die Hard',\n",
       " 'Do the Right Thing',\n",
       " 'Doctor Zhivago',\n",
       " 'Dog Day Afternoon',\n",
       " \"Don't Look Now\",\n",
       " 'Double Indemnity',\n",
       " 'Dr. Strangelove Or: How I Learned to Stop Worrying and Love the Bomb',\n",
       " 'Dracula',\n",
       " 'Drive',\n",
       " 'Drunken Master II',\n",
       " 'Duck Soup',\n",
       " 'E.T. the Extra-Terrestrial',\n",
       " 'Easy Rider',\n",
       " 'Edward Scissorhands',\n",
       " 'Election',\n",
       " 'The Elephant Man',\n",
       " 'Enter the Dragon',\n",
       " 'Eternal Sunshine of the Spotless Mind',\n",
       " 'Evil Dead 2',\n",
       " 'The Exorcist',\n",
       " 'The Farewell',\n",
       " 'Fargo',\n",
       " 'Fast Five',\n",
       " 'Fast Times at Ridgemont High',\n",
       " 'Fight Club',\n",
       " 'Fish Tank',\n",
       " 'Forbidden Planet',\n",
       " 'Four Weddings and a Funeral',\n",
       " 'Frankenstein',\n",
       " 'The French Connection',\n",
       " 'Frida',\n",
       " 'Gallipoli',\n",
       " 'Gandhi',\n",
       " 'Gattaca',\n",
       " 'The General',\n",
       " 'Get Out',\n",
       " 'Ghost in the Shell',\n",
       " 'Ghostbusters',\n",
       " 'Girls Trip',\n",
       " 'The Godfather',\n",
       " 'The Godfather, Part II',\n",
       " 'Godzilla',\n",
       " '007: Goldfinger',\n",
       " 'The Good, the Bad and the Ugly',\n",
       " 'Goodfellas',\n",
       " 'The Grand Budapest Hotel',\n",
       " 'Grand Illusion',\n",
       " 'The Grapes of Wrath',\n",
       " 'Grease',\n",
       " 'The Great Escape',\n",
       " 'Groundhog Day',\n",
       " 'Guardians of the Galaxy',\n",
       " 'Hairspray',\n",
       " 'Halloween',\n",
       " \"A Hard Day's Night\",\n",
       " 'Harold and Maude',\n",
       " 'Harry Potter and the Prisoner of Azkaban',\n",
       " 'The Hate U Give',\n",
       " 'Heat',\n",
       " 'Heathers',\n",
       " 'Hedwig and the Angry Inch',\n",
       " 'Hero',\n",
       " 'High Noon',\n",
       " 'His Girl Friday',\n",
       " 'The Hunt',\n",
       " 'Ikiru',\n",
       " 'In the Heat of the Night',\n",
       " 'In the Mood for Love',\n",
       " 'Inception',\n",
       " 'Inglourious Basterds',\n",
       " 'Inside Out',\n",
       " 'The Iron Giant',\n",
       " 'Iron Man',\n",
       " 'It Happened One Night',\n",
       " \"It's a Wonderful Life\",\n",
       " 'Jaws',\n",
       " 'John Wick']"
      ]
     },
     "execution_count": 24,
     "metadata": {},
     "output_type": "execute_result"
    }
   ],
   "source": [
    "movie_titles=(get_movie_titles(doc))\n",
    "movie_titles"
   ]
  },
  {
   "cell_type": "markdown",
   "metadata": {},
   "source": [
    "**2. Rating from the webpage**"
   ]
  },
  {
   "cell_type": "code",
   "execution_count": 25,
   "metadata": {},
   "outputs": [],
   "source": [
    "rating_tags= doc.find_all('span' ,class_= \"tMeterScore\")"
   ]
  },
  {
   "cell_type": "markdown",
   "metadata": {},
   "source": [
    "![](https://imgur.com/TgMorU6.png)"
   ]
  },
  {
   "cell_type": "code",
   "execution_count": 26,
   "metadata": {},
   "outputs": [
    {
     "data": {
      "text/plain": [
       "'96%'"
      ]
     },
     "execution_count": 26,
     "metadata": {},
     "output_type": "execute_result"
    }
   ],
   "source": [
    "rating_tags[5].text"
   ]
  },
  {
   "cell_type": "code",
   "execution_count": 27,
   "metadata": {},
   "outputs": [],
   "source": [
    "# Define a funtion to get movie rating from the webpage \n",
    "def get_movie_rating(doc):\n",
    "    rating_tags= doc.find_all('span' ,class_= \"tMeterScore\")\n",
    "    movie_rating =[]\n",
    "    for rating_tag in rating_tags:\n",
    "        movie_rating.append(rating_tag.text)\n",
    "    return movie_rating            "
   ]
  },
  {
   "cell_type": "code",
   "execution_count": 28,
   "metadata": {},
   "outputs": [
    {
     "data": {
      "text/plain": [
       "['100%',\n",
       " '92%',\n",
       " '99%',\n",
       " '94%',\n",
       " '100%',\n",
       " '96%',\n",
       " '97%',\n",
       " '91%',\n",
       " '98%',\n",
       " '98%',\n",
       " '99%',\n",
       " '98%',\n",
       " '94%',\n",
       " '89%',\n",
       " '89%',\n",
       " '89%',\n",
       " '93%',\n",
       " '95%',\n",
       " '97%',\n",
       " '93%',\n",
       " '98%',\n",
       " '94%',\n",
       " '93%',\n",
       " '97%',\n",
       " '93%',\n",
       " '94%',\n",
       " '95%',\n",
       " '97%',\n",
       " '81%',\n",
       " '99%',\n",
       " '80%',\n",
       " '98%',\n",
       " '91%',\n",
       " '77%',\n",
       " '87%',\n",
       " '96%',\n",
       " '89%',\n",
       " '90%',\n",
       " '94%',\n",
       " '90%',\n",
       " '96%',\n",
       " '89%',\n",
       " '96%',\n",
       " '90%',\n",
       " '96%',\n",
       " '80%',\n",
       " '98%',\n",
       " '88%',\n",
       " '90%',\n",
       " '92%',\n",
       " '96%',\n",
       " '94%',\n",
       " '94%',\n",
       " '99%',\n",
       " '94%',\n",
       " '92%',\n",
       " '99%',\n",
       " '91%',\n",
       " '90%',\n",
       " '99%',\n",
       " '95%',\n",
       " '90%',\n",
       " '88%',\n",
       " '81%',\n",
       " '97%',\n",
       " '91%',\n",
       " '95%',\n",
       " '98%',\n",
       " '94%',\n",
       " '93%',\n",
       " '95%',\n",
       " '92%',\n",
       " '84%',\n",
       " '94%',\n",
       " '92%',\n",
       " '84%',\n",
       " '96%',\n",
       " '94%',\n",
       " '97%',\n",
       " '98%',\n",
       " '94%',\n",
       " '93%',\n",
       " '84%',\n",
       " '91%',\n",
       " '99%',\n",
       " '84%',\n",
       " '89%',\n",
       " '92%',\n",
       " '92%',\n",
       " '88%',\n",
       " '92%',\n",
       " '88%',\n",
       " '84%',\n",
       " '97%',\n",
       " '94%',\n",
       " '78%',\n",
       " '78%',\n",
       " '79%',\n",
       " '91%',\n",
       " '96%',\n",
       " '96%',\n",
       " '94%',\n",
       " '96%',\n",
       " '76%',\n",
       " '91%',\n",
       " '89%',\n",
       " '82%',\n",
       " '92%',\n",
       " '98%',\n",
       " '95%',\n",
       " '95%',\n",
       " '92%',\n",
       " '97%',\n",
       " '96%',\n",
       " '93%',\n",
       " '99%',\n",
       " '97%',\n",
       " '96%',\n",
       " '92%',\n",
       " '97%',\n",
       " '100%',\n",
       " '77%',\n",
       " '94%',\n",
       " '94%',\n",
       " '92%',\n",
       " '98%',\n",
       " '96%',\n",
       " '98%',\n",
       " '86%',\n",
       " '90%',\n",
       " '97%',\n",
       " '88%',\n",
       " '93%',\n",
       " '92%',\n",
       " '94%',\n",
       " '94%',\n",
       " '99%',\n",
       " '92%',\n",
       " '98%',\n",
       " '96%',\n",
       " '92%',\n",
       " '87%',\n",
       " '89%',\n",
       " '98%',\n",
       " '96%',\n",
       " '94%',\n",
       " '98%',\n",
       " '94%',\n",
       " '97%',\n",
       " '86%']"
      ]
     },
     "execution_count": 28,
     "metadata": {},
     "output_type": "execute_result"
    }
   ],
   "source": [
    "get_movie_rating(doc)"
   ]
  },
  {
   "cell_type": "code",
   "execution_count": 29,
   "metadata": {},
   "outputs": [],
   "source": [
    "movie_ratings=get_movie_rating(doc)"
   ]
  },
  {
   "cell_type": "code",
   "execution_count": 30,
   "metadata": {},
   "outputs": [
    {
     "data": {
      "text/plain": [
       "['100%',\n",
       " '92%',\n",
       " '99%',\n",
       " '94%',\n",
       " '100%',\n",
       " '96%',\n",
       " '97%',\n",
       " '91%',\n",
       " '98%',\n",
       " '98%',\n",
       " '99%',\n",
       " '98%',\n",
       " '94%',\n",
       " '89%',\n",
       " '89%',\n",
       " '89%',\n",
       " '93%',\n",
       " '95%',\n",
       " '97%',\n",
       " '93%',\n",
       " '98%',\n",
       " '94%',\n",
       " '93%',\n",
       " '97%',\n",
       " '93%',\n",
       " '94%',\n",
       " '95%',\n",
       " '97%',\n",
       " '81%',\n",
       " '99%',\n",
       " '80%',\n",
       " '98%',\n",
       " '91%',\n",
       " '77%',\n",
       " '87%',\n",
       " '96%',\n",
       " '89%',\n",
       " '90%',\n",
       " '94%',\n",
       " '90%',\n",
       " '96%',\n",
       " '89%',\n",
       " '96%',\n",
       " '90%',\n",
       " '96%',\n",
       " '80%',\n",
       " '98%',\n",
       " '88%',\n",
       " '90%',\n",
       " '92%',\n",
       " '96%',\n",
       " '94%',\n",
       " '94%',\n",
       " '99%',\n",
       " '94%',\n",
       " '92%',\n",
       " '99%',\n",
       " '91%',\n",
       " '90%',\n",
       " '99%',\n",
       " '95%',\n",
       " '90%',\n",
       " '88%',\n",
       " '81%',\n",
       " '97%',\n",
       " '91%',\n",
       " '95%',\n",
       " '98%',\n",
       " '94%',\n",
       " '93%',\n",
       " '95%',\n",
       " '92%',\n",
       " '84%',\n",
       " '94%',\n",
       " '92%',\n",
       " '84%',\n",
       " '96%',\n",
       " '94%',\n",
       " '97%',\n",
       " '98%',\n",
       " '94%',\n",
       " '93%',\n",
       " '84%',\n",
       " '91%',\n",
       " '99%',\n",
       " '84%',\n",
       " '89%',\n",
       " '92%',\n",
       " '92%',\n",
       " '88%',\n",
       " '92%',\n",
       " '88%',\n",
       " '84%',\n",
       " '97%',\n",
       " '94%',\n",
       " '78%',\n",
       " '78%',\n",
       " '79%',\n",
       " '91%',\n",
       " '96%',\n",
       " '96%',\n",
       " '94%',\n",
       " '96%',\n",
       " '76%',\n",
       " '91%',\n",
       " '89%',\n",
       " '82%',\n",
       " '92%',\n",
       " '98%',\n",
       " '95%',\n",
       " '95%',\n",
       " '92%',\n",
       " '97%',\n",
       " '96%',\n",
       " '93%',\n",
       " '99%',\n",
       " '97%',\n",
       " '96%',\n",
       " '92%',\n",
       " '97%',\n",
       " '100%',\n",
       " '77%',\n",
       " '94%',\n",
       " '94%',\n",
       " '92%',\n",
       " '98%',\n",
       " '96%',\n",
       " '98%',\n",
       " '86%',\n",
       " '90%',\n",
       " '97%',\n",
       " '88%',\n",
       " '93%',\n",
       " '92%',\n",
       " '94%',\n",
       " '94%',\n",
       " '99%',\n",
       " '92%',\n",
       " '98%',\n",
       " '96%',\n",
       " '92%',\n",
       " '87%',\n",
       " '89%',\n",
       " '98%',\n",
       " '96%',\n",
       " '94%',\n",
       " '98%',\n",
       " '94%',\n",
       " '97%',\n",
       " '86%']"
      ]
     },
     "execution_count": 30,
     "metadata": {},
     "output_type": "execute_result"
    }
   ],
   "source": [
    "movie_ratings"
   ]
  },
  {
   "cell_type": "markdown",
   "metadata": {},
   "source": [
    "**3.Year of Release from the webpage**"
   ]
  },
  {
   "cell_type": "code",
   "execution_count": 31,
   "metadata": {},
   "outputs": [],
   "source": [
    "release_tags =doc.find_all('span', class_= \"subtle start-year\")"
   ]
  },
  {
   "cell_type": "markdown",
   "metadata": {},
   "source": [
    "![](https://imgur.com/NwlgYh0.png)"
   ]
  },
  {
   "cell_type": "code",
   "execution_count": 32,
   "metadata": {},
   "outputs": [
    {
     "data": {
      "text/plain": [
       "'(1972)'"
      ]
     },
     "execution_count": 32,
     "metadata": {},
     "output_type": "execute_result"
    }
   ],
   "source": [
    "release_tags[5].text"
   ]
  },
  {
   "cell_type": "code",
   "execution_count": 33,
   "metadata": {},
   "outputs": [],
   "source": [
    "# Define a funtion to get movie release year from the webpage \n",
    "def get_movie_release(doc):\n",
    "    release_tags =doc.find_all('span', class_= \"subtle start-year\")\n",
    "    movie_release =[]\n",
    "    for release_tag in release_tags:   \n",
    "        movie_release.append(release_tag.text)\n",
    "    return movie_release            "
   ]
  },
  {
   "cell_type": "code",
   "execution_count": 34,
   "metadata": {},
   "outputs": [
    {
     "data": {
      "text/plain": [
       "['(1957)',\n",
       " '(1968)',\n",
       " '(1959)',\n",
       " '(1994)',\n",
       " '(1938)',\n",
       " '(1972)',\n",
       " '(1980)',\n",
       " '(1988)',\n",
       " '(1979)',\n",
       " '(1986)',\n",
       " '(1950)',\n",
       " '(1999)',\n",
       " '(1976)',\n",
       " '(2000)',\n",
       " '(1984)',\n",
       " '(2001)',\n",
       " '(2012)',\n",
       " '(1951)',\n",
       " '(1977)',\n",
       " '(1960)',\n",
       " '(1979)',\n",
       " '(2019)',\n",
       " '(1985)',\n",
       " '(1973)',\n",
       " '(1991)',\n",
       " '(1999)',\n",
       " '(1979)',\n",
       " '(1946)',\n",
       " '(2002)',\n",
       " '(1948)',\n",
       " '(1998)',\n",
       " '(2017)',\n",
       " '(2014)',\n",
       " '(2001)',\n",
       " '(1959)',\n",
       " '(2018)',\n",
       " '(1982)',\n",
       " '(1974)',\n",
       " '(1997)',\n",
       " '(1999)',\n",
       " '(1991)',\n",
       " '(1985)',\n",
       " '(1959)',\n",
       " '(2011)',\n",
       " '(1957)',\n",
       " '(2001)',\n",
       " '(1987)',\n",
       " '(2005)',\n",
       " '(1969)',\n",
       " '(1972)',\n",
       " '(1919)',\n",
       " '(2017)',\n",
       " '(2015)',\n",
       " '(1942)',\n",
       " '(2006)',\n",
       " '(2006)',\n",
       " '(1974)',\n",
       " '(2002)',\n",
       " '(1988)',\n",
       " '(1941)',\n",
       " '(1931)',\n",
       " '(1994)',\n",
       " '(1971)',\n",
       " '(1995)',\n",
       " '(2017)',\n",
       " '(2018)',\n",
       " '(2015)',\n",
       " '(2000)',\n",
       " '(2008)',\n",
       " '(1978)',\n",
       " '(1951)',\n",
       " '(1993)',\n",
       " '(1989)',\n",
       " '(1988)',\n",
       " '(1989)',\n",
       " '(1965)',\n",
       " '(1975)',\n",
       " '(1973)',\n",
       " '(1944)',\n",
       " '(1964)',\n",
       " '(1931)',\n",
       " '(2011)',\n",
       " '(1994)',\n",
       " '(1933)',\n",
       " '(1982)',\n",
       " '(1969)',\n",
       " '(1990)',\n",
       " '(1999)',\n",
       " '(1980)',\n",
       " '(1973)',\n",
       " '(2004)',\n",
       " '(1987)',\n",
       " '(1973)',\n",
       " '(2019)',\n",
       " '(1996)',\n",
       " '(2011)',\n",
       " '(1982)',\n",
       " '(1999)',\n",
       " '(2009)',\n",
       " '(1956)',\n",
       " '(1994)',\n",
       " '(1931)',\n",
       " '(1971)',\n",
       " '(2002)',\n",
       " '(1981)',\n",
       " '(1982)',\n",
       " '(1997)',\n",
       " '(1926)',\n",
       " '(2017)',\n",
       " '(1995)',\n",
       " '(1984)',\n",
       " '(2017)',\n",
       " '(1972)',\n",
       " '(1974)',\n",
       " '(1954)',\n",
       " '(1964)',\n",
       " '(1967)',\n",
       " '(1990)',\n",
       " '(2014)',\n",
       " '(1937)',\n",
       " '(1940)',\n",
       " '(1978)',\n",
       " '(1963)',\n",
       " '(1993)',\n",
       " '(2014)',\n",
       " '(1988)',\n",
       " '(1978)',\n",
       " '(1964)',\n",
       " '(1971)',\n",
       " '(2004)',\n",
       " '(2018)',\n",
       " '(1995)',\n",
       " '(1989)',\n",
       " '(2001)',\n",
       " '(2002)',\n",
       " '(1952)',\n",
       " '(1940)',\n",
       " '(2012)',\n",
       " '(1952)',\n",
       " '(1967)',\n",
       " '(2000)',\n",
       " '(2010)',\n",
       " '(2009)',\n",
       " '(2015)',\n",
       " '(1999)',\n",
       " '(2008)',\n",
       " '(1934)',\n",
       " '(1946)',\n",
       " '(1975)',\n",
       " '(2014)']"
      ]
     },
     "execution_count": 34,
     "metadata": {},
     "output_type": "execute_result"
    }
   ],
   "source": [
    "get_movie_release(doc)"
   ]
  },
  {
   "cell_type": "code",
   "execution_count": 35,
   "metadata": {},
   "outputs": [],
   "source": [
    "movie_releases=get_movie_release(doc)"
   ]
  },
  {
   "cell_type": "code",
   "execution_count": 36,
   "metadata": {},
   "outputs": [
    {
     "data": {
      "text/plain": [
       "['(1957)',\n",
       " '(1968)',\n",
       " '(1959)',\n",
       " '(1994)',\n",
       " '(1938)',\n",
       " '(1972)',\n",
       " '(1980)',\n",
       " '(1988)',\n",
       " '(1979)',\n",
       " '(1986)',\n",
       " '(1950)',\n",
       " '(1999)',\n",
       " '(1976)',\n",
       " '(2000)',\n",
       " '(1984)',\n",
       " '(2001)',\n",
       " '(2012)',\n",
       " '(1951)',\n",
       " '(1977)',\n",
       " '(1960)',\n",
       " '(1979)',\n",
       " '(2019)',\n",
       " '(1985)',\n",
       " '(1973)',\n",
       " '(1991)',\n",
       " '(1999)',\n",
       " '(1979)',\n",
       " '(1946)',\n",
       " '(2002)',\n",
       " '(1948)',\n",
       " '(1998)',\n",
       " '(2017)',\n",
       " '(2014)',\n",
       " '(2001)',\n",
       " '(1959)',\n",
       " '(2018)',\n",
       " '(1982)',\n",
       " '(1974)',\n",
       " '(1997)',\n",
       " '(1999)',\n",
       " '(1991)',\n",
       " '(1985)',\n",
       " '(1959)',\n",
       " '(2011)',\n",
       " '(1957)',\n",
       " '(2001)',\n",
       " '(1987)',\n",
       " '(2005)',\n",
       " '(1969)',\n",
       " '(1972)',\n",
       " '(1919)',\n",
       " '(2017)',\n",
       " '(2015)',\n",
       " '(1942)',\n",
       " '(2006)',\n",
       " '(2006)',\n",
       " '(1974)',\n",
       " '(2002)',\n",
       " '(1988)',\n",
       " '(1941)',\n",
       " '(1931)',\n",
       " '(1994)',\n",
       " '(1971)',\n",
       " '(1995)',\n",
       " '(2017)',\n",
       " '(2018)',\n",
       " '(2015)',\n",
       " '(2000)',\n",
       " '(2008)',\n",
       " '(1978)',\n",
       " '(1951)',\n",
       " '(1993)',\n",
       " '(1989)',\n",
       " '(1988)',\n",
       " '(1989)',\n",
       " '(1965)',\n",
       " '(1975)',\n",
       " '(1973)',\n",
       " '(1944)',\n",
       " '(1964)',\n",
       " '(1931)',\n",
       " '(2011)',\n",
       " '(1994)',\n",
       " '(1933)',\n",
       " '(1982)',\n",
       " '(1969)',\n",
       " '(1990)',\n",
       " '(1999)',\n",
       " '(1980)',\n",
       " '(1973)',\n",
       " '(2004)',\n",
       " '(1987)',\n",
       " '(1973)',\n",
       " '(2019)',\n",
       " '(1996)',\n",
       " '(2011)',\n",
       " '(1982)',\n",
       " '(1999)',\n",
       " '(2009)',\n",
       " '(1956)',\n",
       " '(1994)',\n",
       " '(1931)',\n",
       " '(1971)',\n",
       " '(2002)',\n",
       " '(1981)',\n",
       " '(1982)',\n",
       " '(1997)',\n",
       " '(1926)',\n",
       " '(2017)',\n",
       " '(1995)',\n",
       " '(1984)',\n",
       " '(2017)',\n",
       " '(1972)',\n",
       " '(1974)',\n",
       " '(1954)',\n",
       " '(1964)',\n",
       " '(1967)',\n",
       " '(1990)',\n",
       " '(2014)',\n",
       " '(1937)',\n",
       " '(1940)',\n",
       " '(1978)',\n",
       " '(1963)',\n",
       " '(1993)',\n",
       " '(2014)',\n",
       " '(1988)',\n",
       " '(1978)',\n",
       " '(1964)',\n",
       " '(1971)',\n",
       " '(2004)',\n",
       " '(2018)',\n",
       " '(1995)',\n",
       " '(1989)',\n",
       " '(2001)',\n",
       " '(2002)',\n",
       " '(1952)',\n",
       " '(1940)',\n",
       " '(2012)',\n",
       " '(1952)',\n",
       " '(1967)',\n",
       " '(2000)',\n",
       " '(2010)',\n",
       " '(2009)',\n",
       " '(2015)',\n",
       " '(1999)',\n",
       " '(2008)',\n",
       " '(1934)',\n",
       " '(1946)',\n",
       " '(1975)',\n",
       " '(2014)']"
      ]
     },
     "execution_count": 36,
     "metadata": {},
     "output_type": "execute_result"
    }
   ],
   "source": [
    "movie_releases"
   ]
  },
  {
   "cell_type": "markdown",
   "metadata": {},
   "source": [
    "**4.Director's Name from the webpage**"
   ]
  },
  {
   "cell_type": "code",
   "execution_count": 37,
   "metadata": {},
   "outputs": [],
   "source": [
    "dir_names = doc.find_all('div', class_= \"info director\")"
   ]
  },
  {
   "cell_type": "markdown",
   "metadata": {},
   "source": [
    "![](https://imgur.com/15hIoAl.png)"
   ]
  },
  {
   "cell_type": "code",
   "execution_count": 38,
   "metadata": {},
   "outputs": [
    {
     "data": {
      "text/plain": [
       "<div class=\"info director\">\n",
       "<span class=\"descriptor\">Directed By:</span> <a class=\"\" href=\"//www.rottentomatoes.com/celebrity/sidney_lumet\">Sidney Lumet</a></div>"
      ]
     },
     "execution_count": 38,
     "metadata": {},
     "output_type": "execute_result"
    }
   ],
   "source": [
    "dir_names[0]"
   ]
  },
  {
   "cell_type": "code",
   "execution_count": 39,
   "metadata": {},
   "outputs": [],
   "source": [
    "# Define a funtion to get movie directors from the webpage \n",
    "def get_director_names(doc):\n",
    "    dir_names = doc.find_all('div', class_= \"info director\")\n",
    "    movie_director_names =[]\n",
    "    for dir_name in dir_names:\n",
    "        movie_director_names.append(dir_name.text.replace(\"\\nDirected By:\", \"\"))\n",
    "    return movie_director_names           "
   ]
  },
  {
   "cell_type": "code",
   "execution_count": 40,
   "metadata": {},
   "outputs": [
    {
     "data": {
      "text/plain": [
       "[' Sidney Lumet',\n",
       " ' Stanley Kubrick',\n",
       " ' François Truffaut',\n",
       " ' Stephan Elliott',\n",
       " ' Michael Curtiz, William Keighley',\n",
       " ' Werner Herzog',\n",
       " ' Jim Abrahams, David Zucker, Jerry Zucker',\n",
       " ' Katsuhiro Ohtomo',\n",
       " ' Ridley Scott',\n",
       " ' James Cameron',\n",
       " ' Joseph L. Mankiewicz',\n",
       " ' Pedro Almodóvar',\n",
       " ' Alan J. Pakula',\n",
       " ' Cameron Crowe',\n",
       " ' Milos Forman',\n",
       " ' Jean-Pierre Jeunet',\n",
       " ' Michael Haneke',\n",
       " ' Vincente Minnelli',\n",
       " ' Woody Allen',\n",
       " ' Billy Wilder',\n",
       " ' Francis Ford Coppola',\n",
       " ' Anthony Russo, Joe Russo',\n",
       " ' Robert Zemeckis',\n",
       " ' Terrence Malick',\n",
       " ' Gary Trousdale, Kirk Wise',\n",
       " ' Spike Jonze',\n",
       " ' Hal Ashby',\n",
       " ' William Wyler',\n",
       " ' Justin Lin',\n",
       " ' Vittorio De Sica',\n",
       " ' Joel Coen',\n",
       " ' Michael Showalter',\n",
       " ' Alejandro González Iñárritu',\n",
       " ' Ridley Scott',\n",
       " ' Marcel Camus',\n",
       " ' Ryan Coogler',\n",
       " ' Ridley Scott',\n",
       " ' Mel Brooks',\n",
       " ' Paul Thomas Anderson',\n",
       " ' Kimberly Peirce',\n",
       " ' John Singleton',\n",
       " ' John Hughes',\n",
       " ' Jean-Luc Godard',\n",
       " ' Paul Feig',\n",
       " ' David Lean',\n",
       " ' Sharon Maguire',\n",
       " ' James L. Brooks',\n",
       " ' Ang Lee',\n",
       " ' George Roy Hill',\n",
       " ' Bob Fosse',\n",
       " ' Robert Wiene',\n",
       " ' Luca Guadagnino',\n",
       " ' Todd Haynes',\n",
       " ' Michael Curtiz',\n",
       " ' Martin Campbell',\n",
       " ' Alfonso Cuarón',\n",
       " ' Roman Polanski',\n",
       " ' Fernando Meirelles',\n",
       " ' Giuseppe Tornatore',\n",
       " ' Orson Welles',\n",
       " ' Charlie Chaplin',\n",
       " ' Kevin Smith',\n",
       " ' Stanley Kubrick',\n",
       " ' Amy Heckerling',\n",
       " ' Lee Unkrich',\n",
       " ' Jon M. Chu',\n",
       " ' Ryan Coogler',\n",
       " ' Ang Lee',\n",
       " ' Christopher Nolan',\n",
       " ' George A. Romero',\n",
       " ' Robert Wise',\n",
       " ' Richard Linklater',\n",
       " ' Peter Weir',\n",
       " ' John McTiernan',\n",
       " ' Spike Lee',\n",
       " ' David Lean',\n",
       " ' Sidney Lumet',\n",
       " ' Nicolas Roeg',\n",
       " ' Billy Wilder',\n",
       " ' Stanley Kubrick',\n",
       " ' Tod Browning',\n",
       " ' Nicolas Winding Refn',\n",
       " ' Chia-Liang Liu',\n",
       " ' Leo McCarey',\n",
       " ' Steven Spielberg',\n",
       " ' Dennis Hopper',\n",
       " ' Tim Burton',\n",
       " ' Alexander Payne',\n",
       " ' David Lynch',\n",
       " ' Robert Clouse',\n",
       " ' Michel Gondry',\n",
       " ' Sam Raimi',\n",
       " ' William Friedkin',\n",
       " ' Lulu Wang',\n",
       " ' Joel Coen',\n",
       " ' Justin Lin',\n",
       " ' Amy Heckerling',\n",
       " ' David Fincher',\n",
       " ' Andrea Arnold',\n",
       " ' Fred M. Wilcox',\n",
       " ' Mike Newell',\n",
       " ' James Whale',\n",
       " ' William Friedkin',\n",
       " ' Julie Taymor',\n",
       " ' Peter Weir',\n",
       " ' Richard Attenborough',\n",
       " ' Andrew Niccol',\n",
       " ' Clyde Bruckman, Buster Keaton',\n",
       " ' Jordan Peele',\n",
       " ' Mamoru Oshii',\n",
       " ' Ivan Reitman',\n",
       " ' Malcolm D. Lee',\n",
       " ' Francis Ford Coppola',\n",
       " ' Francis Ford Coppola',\n",
       " ' Ishirô Honda',\n",
       " ' Guy Hamilton',\n",
       " ' Sergio Leone',\n",
       " ' Martin Scorsese',\n",
       " ' Wes Anderson',\n",
       " ' Jean Renoir',\n",
       " ' John Ford',\n",
       " ' Randal Kleiser',\n",
       " ' John Sturges',\n",
       " ' Harold Ramis',\n",
       " ' James Gunn',\n",
       " ' John Waters',\n",
       " ' John Carpenter',\n",
       " ' Richard Lester',\n",
       " ' Hal Ashby',\n",
       " ' Alfonso Cuarón',\n",
       " ' George Tillman Jr.',\n",
       " ' Michael Mann',\n",
       " ' Michael Lehmann',\n",
       " ' John Cameron Mitchell',\n",
       " ' Yimou Zhang',\n",
       " ' Fred Zinnemann',\n",
       " ' Howard Hawks',\n",
       " ' Thomas Vinterberg',\n",
       " ' Akira Kurosawa',\n",
       " ' Norman Jewison',\n",
       " ' Kar-Wai Wong',\n",
       " ' Christopher Nolan',\n",
       " ' Quentin Tarantino',\n",
       " ' Pete Docter',\n",
       " ' Brad Bird',\n",
       " ' Jon Favreau',\n",
       " ' Frank Capra',\n",
       " ' Frank Capra',\n",
       " ' Steven Spielberg',\n",
       " ' Chad Stahelski']"
      ]
     },
     "execution_count": 40,
     "metadata": {},
     "output_type": "execute_result"
    }
   ],
   "source": [
    "get_director_names(doc)"
   ]
  },
  {
   "cell_type": "code",
   "execution_count": 41,
   "metadata": {},
   "outputs": [],
   "source": [
    "movie_director_names=get_director_names(doc)"
   ]
  },
  {
   "cell_type": "code",
   "execution_count": 42,
   "metadata": {},
   "outputs": [
    {
     "data": {
      "text/plain": [
       "[' Sidney Lumet',\n",
       " ' Stanley Kubrick',\n",
       " ' François Truffaut',\n",
       " ' Stephan Elliott',\n",
       " ' Michael Curtiz, William Keighley',\n",
       " ' Werner Herzog',\n",
       " ' Jim Abrahams, David Zucker, Jerry Zucker',\n",
       " ' Katsuhiro Ohtomo',\n",
       " ' Ridley Scott',\n",
       " ' James Cameron',\n",
       " ' Joseph L. Mankiewicz',\n",
       " ' Pedro Almodóvar',\n",
       " ' Alan J. Pakula',\n",
       " ' Cameron Crowe',\n",
       " ' Milos Forman',\n",
       " ' Jean-Pierre Jeunet',\n",
       " ' Michael Haneke',\n",
       " ' Vincente Minnelli',\n",
       " ' Woody Allen',\n",
       " ' Billy Wilder',\n",
       " ' Francis Ford Coppola',\n",
       " ' Anthony Russo, Joe Russo',\n",
       " ' Robert Zemeckis',\n",
       " ' Terrence Malick',\n",
       " ' Gary Trousdale, Kirk Wise',\n",
       " ' Spike Jonze',\n",
       " ' Hal Ashby',\n",
       " ' William Wyler',\n",
       " ' Justin Lin',\n",
       " ' Vittorio De Sica',\n",
       " ' Joel Coen',\n",
       " ' Michael Showalter',\n",
       " ' Alejandro González Iñárritu',\n",
       " ' Ridley Scott',\n",
       " ' Marcel Camus',\n",
       " ' Ryan Coogler',\n",
       " ' Ridley Scott',\n",
       " ' Mel Brooks',\n",
       " ' Paul Thomas Anderson',\n",
       " ' Kimberly Peirce',\n",
       " ' John Singleton',\n",
       " ' John Hughes',\n",
       " ' Jean-Luc Godard',\n",
       " ' Paul Feig',\n",
       " ' David Lean',\n",
       " ' Sharon Maguire',\n",
       " ' James L. Brooks',\n",
       " ' Ang Lee',\n",
       " ' George Roy Hill',\n",
       " ' Bob Fosse',\n",
       " ' Robert Wiene',\n",
       " ' Luca Guadagnino',\n",
       " ' Todd Haynes',\n",
       " ' Michael Curtiz',\n",
       " ' Martin Campbell',\n",
       " ' Alfonso Cuarón',\n",
       " ' Roman Polanski',\n",
       " ' Fernando Meirelles',\n",
       " ' Giuseppe Tornatore',\n",
       " ' Orson Welles',\n",
       " ' Charlie Chaplin',\n",
       " ' Kevin Smith',\n",
       " ' Stanley Kubrick',\n",
       " ' Amy Heckerling',\n",
       " ' Lee Unkrich',\n",
       " ' Jon M. Chu',\n",
       " ' Ryan Coogler',\n",
       " ' Ang Lee',\n",
       " ' Christopher Nolan',\n",
       " ' George A. Romero',\n",
       " ' Robert Wise',\n",
       " ' Richard Linklater',\n",
       " ' Peter Weir',\n",
       " ' John McTiernan',\n",
       " ' Spike Lee',\n",
       " ' David Lean',\n",
       " ' Sidney Lumet',\n",
       " ' Nicolas Roeg',\n",
       " ' Billy Wilder',\n",
       " ' Stanley Kubrick',\n",
       " ' Tod Browning',\n",
       " ' Nicolas Winding Refn',\n",
       " ' Chia-Liang Liu',\n",
       " ' Leo McCarey',\n",
       " ' Steven Spielberg',\n",
       " ' Dennis Hopper',\n",
       " ' Tim Burton',\n",
       " ' Alexander Payne',\n",
       " ' David Lynch',\n",
       " ' Robert Clouse',\n",
       " ' Michel Gondry',\n",
       " ' Sam Raimi',\n",
       " ' William Friedkin',\n",
       " ' Lulu Wang',\n",
       " ' Joel Coen',\n",
       " ' Justin Lin',\n",
       " ' Amy Heckerling',\n",
       " ' David Fincher',\n",
       " ' Andrea Arnold',\n",
       " ' Fred M. Wilcox',\n",
       " ' Mike Newell',\n",
       " ' James Whale',\n",
       " ' William Friedkin',\n",
       " ' Julie Taymor',\n",
       " ' Peter Weir',\n",
       " ' Richard Attenborough',\n",
       " ' Andrew Niccol',\n",
       " ' Clyde Bruckman, Buster Keaton',\n",
       " ' Jordan Peele',\n",
       " ' Mamoru Oshii',\n",
       " ' Ivan Reitman',\n",
       " ' Malcolm D. Lee',\n",
       " ' Francis Ford Coppola',\n",
       " ' Francis Ford Coppola',\n",
       " ' Ishirô Honda',\n",
       " ' Guy Hamilton',\n",
       " ' Sergio Leone',\n",
       " ' Martin Scorsese',\n",
       " ' Wes Anderson',\n",
       " ' Jean Renoir',\n",
       " ' John Ford',\n",
       " ' Randal Kleiser',\n",
       " ' John Sturges',\n",
       " ' Harold Ramis',\n",
       " ' James Gunn',\n",
       " ' John Waters',\n",
       " ' John Carpenter',\n",
       " ' Richard Lester',\n",
       " ' Hal Ashby',\n",
       " ' Alfonso Cuarón',\n",
       " ' George Tillman Jr.',\n",
       " ' Michael Mann',\n",
       " ' Michael Lehmann',\n",
       " ' John Cameron Mitchell',\n",
       " ' Yimou Zhang',\n",
       " ' Fred Zinnemann',\n",
       " ' Howard Hawks',\n",
       " ' Thomas Vinterberg',\n",
       " ' Akira Kurosawa',\n",
       " ' Norman Jewison',\n",
       " ' Kar-Wai Wong',\n",
       " ' Christopher Nolan',\n",
       " ' Quentin Tarantino',\n",
       " ' Pete Docter',\n",
       " ' Brad Bird',\n",
       " ' Jon Favreau',\n",
       " ' Frank Capra',\n",
       " ' Frank Capra',\n",
       " ' Steven Spielberg',\n",
       " ' Chad Stahelski']"
      ]
     },
     "execution_count": 42,
     "metadata": {},
     "output_type": "execute_result"
    }
   ],
   "source": [
    "movie_director_names"
   ]
  },
  {
   "cell_type": "markdown",
   "metadata": {},
   "source": [
    "**5.Cast Name from the webpage**"
   ]
  },
  {
   "cell_type": "code",
   "execution_count": 43,
   "metadata": {},
   "outputs": [],
   "source": [
    "cast_names = doc.find_all('div', class_= \"info cast\")"
   ]
  },
  {
   "cell_type": "markdown",
   "metadata": {},
   "source": [
    "![](https://imgur.com/mkM6zo0.png)"
   ]
  },
  {
   "cell_type": "code",
   "execution_count": 44,
   "metadata": {},
   "outputs": [
    {
     "data": {
      "text/plain": [
       "'Henry Fonda, Lee J. Cobb, Ed Begley, E.G. Marshall'"
      ]
     },
     "execution_count": 44,
     "metadata": {},
     "output_type": "execute_result"
    }
   ],
   "source": [
    "cast_names[0].text[11:]"
   ]
  },
  {
   "cell_type": "code",
   "execution_count": 45,
   "metadata": {},
   "outputs": [],
   "source": [
    "# Define a funtion to get movie cast from the webpage \n",
    "def get_movie_cast(doc):\n",
    "    cast_names = doc.find_all('div', class_= \"info cast\")\n",
    "    stars = []\n",
    "    for star in cast_names:\n",
    "        stars.append(star.text[11:])\n",
    "\n",
    "    return stars "
   ]
  },
  {
   "cell_type": "code",
   "execution_count": 46,
   "metadata": {},
   "outputs": [
    {
     "data": {
      "text/plain": [
       "['Henry Fonda, Lee J. Cobb, Ed Begley, E.G. Marshall',\n",
       " 'Keir Dullea, Gary Lockwood, William Sylvester, Daniel Richter',\n",
       " 'Jean-Pierre Léaud, Claire Maurier, Albert Remy, Guy Decomble',\n",
       " 'Terence Stamp, Hugo Weaving, Guy Pearce, Bill Hunter',\n",
       " 'Errol Flynn, Olivia de Havilland, Basil Rathbone, Claude Rains']"
      ]
     },
     "execution_count": 46,
     "metadata": {},
     "output_type": "execute_result"
    }
   ],
   "source": [
    "get_movie_cast(doc)[:5]"
   ]
  },
  {
   "cell_type": "code",
   "execution_count": 47,
   "metadata": {},
   "outputs": [
    {
     "data": {
      "text/plain": [
       "['Henry Fonda, Lee J. Cobb, Ed Begley, E.G. Marshall',\n",
       " 'Keir Dullea, Gary Lockwood, William Sylvester, Daniel Richter',\n",
       " 'Jean-Pierre Léaud, Claire Maurier, Albert Remy, Guy Decomble',\n",
       " 'Terence Stamp, Hugo Weaving, Guy Pearce, Bill Hunter',\n",
       " 'Errol Flynn, Olivia de Havilland, Basil Rathbone, Claude Rains',\n",
       " 'Klaus Kinski, Ruy Guerra, Helena Rojo, Del Negro',\n",
       " 'Robert Hays, Julie Hagerty, Peter Graves, Robert Stack',\n",
       " 'Mitsuo Iwata, Nozomu Sasaki, Mami Koyama, Tessho Genda',\n",
       " 'Tom Skerritt, Sigourney Weaver, John Hurt, Veronica Cartwright',\n",
       " 'Sigourney Weaver, Carrie Henn, Michael Biehn, Paul Reiser',\n",
       " 'Bette Davis, Anne Baxter, Celeste Holm, George Sanders',\n",
       " 'Cecilia Roth, Eloy Azorín, Marisa Paredes, Penélope Cruz',\n",
       " 'Robert Redford, Dustin Hoffman, Jack Warden, Martin Balsam',\n",
       " 'Billy Crudup, Frances McDormand, Kate Hudson, Jason Lee',\n",
       " 'F. Murray Abraham, Tom Hulce, Jeffrey Jones, Elizabeth Berridge',\n",
       " 'Audrey Tautou, Mathieu Kassovitz, Rufus, Yolande Moreau',\n",
       " 'Jean-Louis Trintignant, Emmanuelle Riva, Isabelle Huppert, Alexandre Tharaud',\n",
       " 'Gene Kelly, Leslie Caron, Oscar Levant, Georges Guétary',\n",
       " 'Woody Allen, Diane Keaton, Tony Roberts, Carol Kane',\n",
       " 'Jack Lemmon, Shirley MacLaine, Fred MacMurray, Ray Walston',\n",
       " 'Marlon Brando, Martin Sheen, Robert Duvall, Frederic Forrest',\n",
       " 'Robert Downey Jr., Chris Evans, Mark Ruffalo, Chris Hemsworth',\n",
       " 'Michael J. Fox, Christopher Lloyd, Crispin Glover, Lea Thompson',\n",
       " 'Martin Sheen, Sissy Spacek, Warren Oates, Ramon Bieri',\n",
       " \"Paige O'Hara, Robby Benson, Richard White, Jerry Orbach\",\n",
       " 'John Cusack, Cameron Diaz, Catherine Keener, Orson Bean',\n",
       " 'Peter Sellers, Shirley MacLaine, Jack Warden, Melvyn Douglas',\n",
       " 'Fredric March, Myrna Loy, Dana Andrews, Teresa Wright',\n",
       " 'Parry Shen, Jason Tobin, Sung Kang, Roger Fan',\n",
       " 'Lamberto Maggiorani, Lianella Carell, Enzo Staiola, Elena Altieri',\n",
       " 'Jeff Bridges, John Goodman, Julianne Moore, Steve Buscemi',\n",
       " 'Kumail Nanjiani, Zoe Kazan, Holly Hunter, Ray Romano',\n",
       " 'Michael Keaton, Zach Galifianakis, Ed Norton, Andrea Riseborough',\n",
       " 'Josh Hartnett, Ewan McGregor, Tom Sizemore, Eric Bana',\n",
       " 'Breno Mello, Marpessa Dawn, Lourdes de Oliveira, Léa Garcia',\n",
       " \"Chadwick Boseman, Michael B. Jordan, Lupita Nyong'o, Danai Gurira\",\n",
       " 'Harrison Ford, Rutger Hauer, Sean Young, Edward James Olmos',\n",
       " 'Cleavon Little, Gene Wilder, Madeline Kahn, Slim Pickens',\n",
       " 'Mark Wahlberg, Burt Reynolds, Julianne Moore, John C. Reilly',\n",
       " 'Hilary Swank, Chloë Sevigny, Peter Sarsgaard, Brendan Sexton III',\n",
       " 'Laurence Fishburne, Ice Cube, Cuba Gooding Jr., Nia Long',\n",
       " 'Emilio Estevez, Molly Ringwald, Judd Nelson, Paul Gleason',\n",
       " 'Jean-Paul Belmondo, Jean Seberg, Daniel Boulanger, Jean-Pierre Melville',\n",
       " 'Kristen Wiig, Maya Rudolph, Rose Byrne, Ellie Kemper',\n",
       " 'William Holden, Alec Guinness, Sessue Hayakawa, Jack Hawkins',\n",
       " 'Renée Zellweger, Colin Firth, Hugh Grant, Gemma Jones',\n",
       " 'William Hurt, Albert Brooks, Holly Hunter, Robert Prosky',\n",
       " 'Heath Ledger, Jake Gyllenhaal, Linda Cardellini, Anna Faris',\n",
       " 'Paul Newman, Robert Redford, Katharine Ross, Strother Martin',\n",
       " 'Liza Minnelli, Joel Grey, Michael York, Helmut Griem',\n",
       " 'Werner Krauss, Conrad Veidt, Lil Dagover, Friedrich Feher',\n",
       " 'Armie Hammer, Timothée Chalamet, Michael Stuhlbarg, Amira Casar',\n",
       " 'Cate Blanchett, Rooney Mara, Sarah Paulson, Jake Lacy',\n",
       " 'Humphrey Bogart, Ingrid Bergman, Paul Henreid, Claude Rains',\n",
       " 'Daniel Craig, Eva Green, Mads Mikkelsen, Judi Dench',\n",
       " 'Clive Owen, Julianne Moore, Michael Caine, Chiwetel Ejiofor',\n",
       " 'Jack Nicholson, Faye Dunaway, John Huston, Perry Lopez',\n",
       " 'Alexandre Rodrigues, Leandro Firmino, Phellipe Haagensen, Douglas Silva',\n",
       " 'Salvatore Cascio, Philippe Noiret, Marco Leonardi, Jacques Perrin',\n",
       " 'Orson Welles, Joseph Cotten, Ruth Warrick, Everett Sloane',\n",
       " 'Charlie Chaplin, Virginia Cherrill, Harry Myers, Hank Mann',\n",
       " \"Brian O'Halloran, Jeff Anderson, Marilyn Ghigliotti, Lisa Spoonauer\",\n",
       " 'Malcolm McDowell, Patrick Magee, Michael Bates, Warren Clarke',\n",
       " 'Alicia Silverstone, Stacey Dash, Brittany Murphy, Paul Rudd',\n",
       " 'Anthony Gonzalez, Gael García Bernal, Benjamin Bratt, Alanna Ubach',\n",
       " 'Constance Wu, Henry Golding, Michelle Yeoh, Gemma Chan',\n",
       " 'Michael B. Jordan, Sylvester Stallone, Tessa Thompson, Phylicia Rashad',\n",
       " 'Chow Yun-Fat, Michelle Yeoh, Zhang Ziyi, Chang Chen',\n",
       " 'Christian Bale, Heath Ledger, Aaron Eckhart, Michael Caine',\n",
       " 'David Emge, Ken Foree, Gaylen Ross, Scott H. Reiniger',\n",
       " 'Michael Rennie, Patricia Neal, Hugh Marlowe, Sam Jaffe',\n",
       " 'Jason London, Wiley Wiggins, Sasha Jenson, Rory Cochrane',\n",
       " 'Robin Williams, Robert Sean Leonard, Ethan Hawke, Josh Charles',\n",
       " 'Bruce Willis, Alan Rickman, Bonnie Bedelia, Reginald VelJohnson',\n",
       " 'Danny Aiello, Ossie Davis, Ruby Dee, Richard Edson',\n",
       " 'Omar Sharif, Julie Christie, Geraldine Chaplin, Tom Courtenay',\n",
       " 'Al Pacino, John Cazale, Charles Durning, Chris Sarandon',\n",
       " 'Julie Christie, Donald Sutherland, Hilary Mason, Clelia Matania',\n",
       " 'Fred MacMurray, Barbara Stanwyck, Edward G. Robinson, Porter Hall',\n",
       " 'Peter Sellers, George C. Scott, Keenan Wynn, Slim Pickens',\n",
       " 'Bela Lugosi, Edward Van Sloan, Dwight Frye, David Manners',\n",
       " 'Ryan Gosling, Carey Mulligan, Bryan Cranston, Albert Brooks',\n",
       " 'Jackie Chan, Ti Lung, Anita Mui, Chia-Liang Liu',\n",
       " 'Groucho Marx, Harpo Marx, Chico Marx, Zeppo Marx',\n",
       " 'Henry Thomas, Dee Wallace, Peter Coyote, Drew Barrymore',\n",
       " 'Peter Fonda, Dennis Hopper, Jack Nicholson, Antonio Mendoza',\n",
       " 'Johnny Depp, Winona Ryder, Dianne Wiest, Anthony Michael Hall',\n",
       " 'Matthew Broderick, Reese Witherspoon, Chris Klein, Jessica Campbell',\n",
       " 'John Hurt, Anthony Hopkins, Anne Bancroft, John Gielgud',\n",
       " 'Bruce Lee, John Saxon, Jim Kelly, Ahna Capri',\n",
       " 'Jim Carrey, Kate Winslet, Kirsten Dunst, Mark Ruffalo',\n",
       " 'Bruce Campbell, Sarah Berry, Dan Hicks, Denise Bixler',\n",
       " 'Ellen Burstyn, Linda Blair, Max von Sydow, Lee J. Cobb',\n",
       " 'Awkwafina, Tzi Ma, Diana Lin, Gil Perez-Abraham',\n",
       " 'Frances McDormand, Steve Buscemi, William H. Macy, Peter Stormare',\n",
       " 'Vin Diesel, Paul Walker, Jordana Brewster, Tyrese Gibson',\n",
       " 'Sean Penn, Jennifer Jason Leigh, Judge Reinhold, Robert Romanus',\n",
       " 'Brad Pitt, Ed Norton, Helena Bonham Carter, Meat Loaf',\n",
       " 'Michael Fassbender, Katie Jarvis, Kierston Wareing, Harry Treadaway',\n",
       " 'Walter Pidgeon, Anne Francis, Leslie Nielsen, Warren Stevens',\n",
       " 'Hugh Grant, Andie MacDowell, Kristin Scott Thomas, Simon Callow',\n",
       " 'Colin Clive, Mae Clarke, John Boles, Boris Karloff',\n",
       " 'Gene Hackman, Fernando Rey, Roy Scheider, Tony Lo Bianco',\n",
       " 'Salma Hayek, Alfred Molina, Geoffrey Rush, Ashley Judd',\n",
       " 'Mark Lee, Mel Gibson, Bill Kerr, Ron Graham',\n",
       " 'Ben Kingsley, Candice Bergen, Edward Fox, John Gielgud',\n",
       " 'Ethan Hawke, Uma Thurman, Jude Law, Gore Vidal',\n",
       " 'Buster Keaton, Marion Mack, Glen Cavender, Jim Farley',\n",
       " 'Daniel Kaluuya, Allison Williams, Catherine Keener, Bradley Whitford',\n",
       " 'Richard Epcar, Mimi Woods, William Frederick Knight, Tom Wyner',\n",
       " 'Bill Murray, Dan Aykroyd, Harold Ramis, Sigourney Weaver',\n",
       " 'Regina Hall, Queen Latifah, Jada Pinkett Smith, Tiffany Haddish',\n",
       " 'Marlon Brando, Al Pacino, James Caan, Richard S. Castellano',\n",
       " 'Al Pacino, Robert Duvall, Diane Keaton, Robert De Niro',\n",
       " 'Takashi Shimura, Momoko Kochi, Akira Takarada, Akihiko Hirata',\n",
       " 'Sean Connery, Gert Fröbe, Honor Blackman, Shirley Eaton',\n",
       " 'Clint Eastwood, Eli Wallach, Lee Van Cleef, Aldo Giuffré',\n",
       " 'Robert De Niro, Ray Liotta, Joe Pesci, Lorraine Bracco',\n",
       " 'Ralph Fiennes, F. Murray Abraham, Mathieu Amalric, Adrien Brody',\n",
       " 'Pierre Fresnay, Erich von Stroheim, Jean Gabin, Marcel Dalio',\n",
       " 'Henry Fonda, Jane Darwell, John Carradine, Charley Grapewin',\n",
       " 'John Travolta, Olivia Newton-John, Stockard Channing, Jeff Conaway',\n",
       " 'Steve McQueen, James Garner, Richard Attenborough, Charles Bronson',\n",
       " 'Bill Murray, Andie MacDowell, Chris Elliott, Stephen Tobolowsky',\n",
       " 'Chris Pratt, Zoe Saldana, Dave Bautista, Vin Diesel',\n",
       " 'Ricki Lake, Divine, Jerry Stiller, Sonny Bono',\n",
       " 'Donald Pleasence, Jamie Lee Curtis, Nancy Kyes, P.J. Soles',\n",
       " 'The Beatles, Wilfrid Brambell, Norman Rossington, John Junkin',\n",
       " 'Bud Cort, Ruth Gordon, Cyril Cusack, Vivian Pickles',\n",
       " 'Daniel Radcliffe, Rupert Grint, Emma Watson, Gary Oldman',\n",
       " 'Amandla Stenberg, Regina Hall, Russell Hornsby, K.J. Apa',\n",
       " 'Al Pacino, Robert De Niro, Val Kilmer, Jon Voight',\n",
       " 'Winona Ryder, Christian Slater, Shannen Doherty, Lisanne Falk',\n",
       " 'John Cameron Mitchell, Michael Pitt, Miriam Shor, Stephen Trask',\n",
       " 'Jet Li, Tony Leung Chiu Wai, Maggie Cheung, Donnie Yen',\n",
       " 'Gary Cooper, Grace Kelly, Katy Jurado, Thomas Mitchell',\n",
       " 'Cary Grant, Rosalind Russell, Ralph Bellamy, Gene Lockhart',\n",
       " 'Mads Mikkelsen, Thomas Bo Larsen, Annika Wedderkopp, Lasse Fogelstrøm',\n",
       " 'Takashi Shimura, Miki Odagiri, Kyôko Seki',\n",
       " 'Sidney Poitier, Rod Steiger, Warren Oates, Quentin Dean',\n",
       " 'Tony Leung Chiu Wai, Maggie Cheung, Kelly Lai Chen, Rebecca Pan',\n",
       " 'Leonardo DiCaprio, Joseph Gordon-Levitt, Elliot Page, Tom Hardy',\n",
       " 'Brad Pitt, Mélanie Laurent, Christoph Waltz, Eli Roth',\n",
       " 'Amy Poehler, Phyllis Smith, Richard Kind, Bill Hader',\n",
       " 'Jennifer Aniston, Eli Marienthal, Harry Connick Jr., Vin Diesel',\n",
       " 'Robert Downey Jr., Terrence Howard, Gwyneth Paltrow, Jeff Bridges',\n",
       " 'Claudette Colbert, Clark Gable, Walter Connolly, Roscoe Karns',\n",
       " 'James Stewart, Donna Reed, Lionel Barrymore, Thomas Mitchell',\n",
       " 'Roy Scheider, Robert Shaw, Richard Dreyfuss, Lorraine Gary',\n",
       " 'Keanu Reeves, Michael Nyqvist, Alfie Allen, Willem Dafoe']"
      ]
     },
     "execution_count": 47,
     "metadata": {},
     "output_type": "execute_result"
    }
   ],
   "source": [
    "stars=get_movie_cast(doc)\n",
    "stars"
   ]
  },
  {
   "cell_type": "markdown",
   "metadata": {},
   "source": [
    "**6.Link of each movie from the webpage**"
   ]
  },
  {
   "cell_type": "code",
   "execution_count": 48,
   "metadata": {},
   "outputs": [],
   "source": [
    "# Define a funtion to get movie url from the webpage \n",
    "def get_movie_url(doc):\n",
    "    movie_href_tags = doc.find_all('div',class_= \"article_movie_title\")\n",
    "    link_list = []\n",
    "    for i in movie_href_tags:\n",
    "        link_list.append(i('h2')[0]('a')[0]['href'])\n",
    "    movies_url = []\n",
    "    for link in link_list:\n",
    "        url = link\n",
    "        movies_url.append(url)\n",
    "\n",
    "    return movies_url"
   ]
  },
  {
   "cell_type": "code",
   "execution_count": 49,
   "metadata": {},
   "outputs": [
    {
     "data": {
      "text/plain": [
       "['https://www.rottentomatoes.com/m/1000013_12_angry_men',\n",
       " 'https://www.rottentomatoes.com/m/2001_a_space_odyssey',\n",
       " 'https://www.rottentomatoes.com/m/400_blows',\n",
       " 'https://www.rottentomatoes.com/m/adventures_of_priscilla_queen_of_the_desert',\n",
       " 'https://www.rottentomatoes.com/m/1000355-adventures_of_robin_hood']"
      ]
     },
     "execution_count": 49,
     "metadata": {},
     "output_type": "execute_result"
    }
   ],
   "source": [
    "get_movie_url(doc)[:5]"
   ]
  },
  {
   "cell_type": "code",
   "execution_count": 50,
   "metadata": {},
   "outputs": [],
   "source": [
    "movies_url = get_movie_url(doc)"
   ]
  },
  {
   "cell_type": "code",
   "execution_count": 51,
   "metadata": {},
   "outputs": [
    {
     "data": {
      "text/plain": [
       "['https://www.rottentomatoes.com/m/1000013_12_angry_men',\n",
       " 'https://www.rottentomatoes.com/m/2001_a_space_odyssey',\n",
       " 'https://www.rottentomatoes.com/m/400_blows',\n",
       " 'https://www.rottentomatoes.com/m/adventures_of_priscilla_queen_of_the_desert',\n",
       " 'https://www.rottentomatoes.com/m/1000355-adventures_of_robin_hood']"
      ]
     },
     "execution_count": 51,
     "metadata": {},
     "output_type": "execute_result"
    }
   ],
   "source": [
    "movies_url[:5]"
   ]
  },
  {
   "cell_type": "markdown",
   "metadata": {},
   "source": [
    "**7.Synopsis for a movie from the webpage**"
   ]
  },
  {
   "cell_type": "code",
   "execution_count": 52,
   "metadata": {},
   "outputs": [],
   "source": [
    "# Define a funtion to get movie synopsis from the webpage\n",
    "def get_synopsis(doc):\n",
    "    syn_tags = doc.find_all('div', class_= \"info synopsis\")\n",
    "\n",
    "    synopsis = []\n",
    "    for syn_tag in syn_tags:\n",
    "        synopsis.append(syn_tag.text[10:])\n",
    "\n",
    "    return synopsis"
   ]
  },
  {
   "cell_type": "markdown",
   "metadata": {},
   "source": [
    "![](https://imgur.com/soKbwJS.png)"
   ]
  },
  {
   "cell_type": "code",
   "execution_count": 53,
   "metadata": {},
   "outputs": [
    {
     "data": {
      "text/plain": [
       "['Following the closing arguments in a murder trial, the 12 members of the jury must deliberate, with a guilty verdict... [More]',\n",
       " 'An imposing black structure provides a connection between the past and the future in this enigmatic adaptation of a short... [More]',\n",
       " 'For young Parisian boy Antoine Doinel (Jean-Pierre Léaud), life is one difficult situation after another. Surrounded by inconsiderate adults, including... [More]',\n",
       " 'When drag queen Anthony (Hugo Weaving) agrees to take his act on the road, he invites fellow cross-dresser Adam (Guy... [More]',\n",
       " 'When King Richard the Lionheart is captured, his scheming brother Prince John (Claude Rains) plots to reach the throne, to... [More]']"
      ]
     },
     "execution_count": 53,
     "metadata": {},
     "output_type": "execute_result"
    }
   ],
   "source": [
    "get_synopsis(doc)[:5]"
   ]
  },
  {
   "cell_type": "code",
   "execution_count": 54,
   "metadata": {},
   "outputs": [],
   "source": [
    "synopsis = get_synopsis(doc)"
   ]
  },
  {
   "cell_type": "markdown",
   "metadata": {},
   "source": [
    "**8.Critics Consensus for a movie from the webpage**"
   ]
  },
  {
   "cell_type": "code",
   "execution_count": 55,
   "metadata": {},
   "outputs": [],
   "source": [
    "# Define a funtion to get movie critic consensus from the webpage\n",
    "def get_critics_consensus(doc):\n",
    "    cc_tags = doc.find_all('div', class_= \"info critics-consensus\")\n",
    "\n",
    "    critics_consensus = []\n",
    "    for cc_tag in cc_tags:\n",
    "        critics_consensus.append(cc_tag.text[10:].replace(\"nsensus:\", \"\"))\n",
    "\n",
    "    return critics_consensus"
   ]
  },
  {
   "cell_type": "markdown",
   "metadata": {},
   "source": [
    "![](https://imgur.com/hFHdTIM.png)"
   ]
  },
  {
   "cell_type": "code",
   "execution_count": 56,
   "metadata": {},
   "outputs": [
    {
     "data": {
      "text/plain": [
       "[\" Sidney Lumet's feature debut is a superbly written, dramatically effective courtroom thriller that rightfully stands as a modern classic.\",\n",
       " \" One of the most influential of all sci-fi films -- and one of the most controversial -- Stanley Kubrick's 2001 is a delicate, poetic meditation on the ingenuity -- and folly -- of mankind.\",\n",
       " ' A seminal French New Wave film that offers an honest, sympathetic, and wholly heartbreaking observation of adolescence without trite nostalgia.',\n",
       " ' While its premise is ripe for comedy -- and it certainly delivers its fair share of laughs -- Priscilla is also a surprisingly tender and thoughtful road movie with some outstanding performances.',\n",
       " ' Errol Flynn thrills as the legendary title character, and the film embodies the type of imaginative family adventure tailor-made for the silver screen.']"
      ]
     },
     "execution_count": 56,
     "metadata": {},
     "output_type": "execute_result"
    }
   ],
   "source": [
    "get_critics_consensus(doc)[:5]"
   ]
  },
  {
   "cell_type": "code",
   "execution_count": 57,
   "metadata": {},
   "outputs": [],
   "source": [
    "critics_consensus = get_critics_consensus(doc)"
   ]
  },
  {
   "cell_type": "markdown",
   "metadata": {},
   "source": [
    "**9.Creating a dataframe using pandas Library**"
   ]
  },
  {
   "cell_type": "code",
   "execution_count": 58,
   "metadata": {},
   "outputs": [],
   "source": [
    "column_names = ['Title', 'Release_year', 'Rating', 'Director','Synopsis','Critics_Consensus','Cast','url']\n",
    "Top_300_movie_df = pd.DataFrame(list(zip(movie_titles,movie_releases,movie_ratings,movie_director_names,synopsis,critics_consensus,stars,movies_url)), columns = column_names)"
   ]
  },
  {
   "cell_type": "code",
   "execution_count": 59,
   "metadata": {},
   "outputs": [
    {
     "data": {
      "text/html": [
       "<div>\n",
       "<style scoped>\n",
       "    .dataframe tbody tr th:only-of-type {\n",
       "        vertical-align: middle;\n",
       "    }\n",
       "\n",
       "    .dataframe tbody tr th {\n",
       "        vertical-align: top;\n",
       "    }\n",
       "\n",
       "    .dataframe thead th {\n",
       "        text-align: right;\n",
       "    }\n",
       "</style>\n",
       "<table border=\"1\" class=\"dataframe\">\n",
       "  <thead>\n",
       "    <tr style=\"text-align: right;\">\n",
       "      <th></th>\n",
       "      <th>Title</th>\n",
       "      <th>Release_year</th>\n",
       "      <th>Rating</th>\n",
       "      <th>Director</th>\n",
       "      <th>Synopsis</th>\n",
       "      <th>Critics_Consensus</th>\n",
       "      <th>Cast</th>\n",
       "      <th>url</th>\n",
       "    </tr>\n",
       "  </thead>\n",
       "  <tbody>\n",
       "    <tr>\n",
       "      <th>0</th>\n",
       "      <td>12 Angry Men</td>\n",
       "      <td>(1957)</td>\n",
       "      <td>100%</td>\n",
       "      <td>Sidney Lumet</td>\n",
       "      <td>Following the closing arguments in a murder tr...</td>\n",
       "      <td>Sidney Lumet's feature debut is a superbly wr...</td>\n",
       "      <td>Henry Fonda, Lee J. Cobb, Ed Begley, E.G. Mars...</td>\n",
       "      <td>https://www.rottentomatoes.com/m/1000013_12_an...</td>\n",
       "    </tr>\n",
       "    <tr>\n",
       "      <th>1</th>\n",
       "      <td>2001: A Space Odyssey</td>\n",
       "      <td>(1968)</td>\n",
       "      <td>92%</td>\n",
       "      <td>Stanley Kubrick</td>\n",
       "      <td>An imposing black structure provides a connect...</td>\n",
       "      <td>One of the most influential of all sci-fi fil...</td>\n",
       "      <td>Keir Dullea, Gary Lockwood, William Sylvester,...</td>\n",
       "      <td>https://www.rottentomatoes.com/m/2001_a_space_...</td>\n",
       "    </tr>\n",
       "    <tr>\n",
       "      <th>2</th>\n",
       "      <td>The 400 Blows</td>\n",
       "      <td>(1959)</td>\n",
       "      <td>99%</td>\n",
       "      <td>François Truffaut</td>\n",
       "      <td>For young Parisian boy Antoine Doinel (Jean-Pi...</td>\n",
       "      <td>A seminal French New Wave film that offers an...</td>\n",
       "      <td>Jean-Pierre Léaud, Claire Maurier, Albert Remy...</td>\n",
       "      <td>https://www.rottentomatoes.com/m/400_blows</td>\n",
       "    </tr>\n",
       "    <tr>\n",
       "      <th>3</th>\n",
       "      <td>The Adventures of Priscilla, Queen of the Desert</td>\n",
       "      <td>(1994)</td>\n",
       "      <td>94%</td>\n",
       "      <td>Stephan Elliott</td>\n",
       "      <td>When drag queen Anthony (Hugo Weaving) agrees ...</td>\n",
       "      <td>While its premise is ripe for comedy -- and i...</td>\n",
       "      <td>Terence Stamp, Hugo Weaving, Guy Pearce, Bill ...</td>\n",
       "      <td>https://www.rottentomatoes.com/m/adventures_of...</td>\n",
       "    </tr>\n",
       "    <tr>\n",
       "      <th>4</th>\n",
       "      <td>The Adventures of Robin Hood</td>\n",
       "      <td>(1938)</td>\n",
       "      <td>100%</td>\n",
       "      <td>Michael Curtiz, William Keighley</td>\n",
       "      <td>When King Richard the Lionheart is captured, h...</td>\n",
       "      <td>Errol Flynn thrills as the legendary title ch...</td>\n",
       "      <td>Errol Flynn, Olivia de Havilland, Basil Rathbo...</td>\n",
       "      <td>https://www.rottentomatoes.com/m/1000355-adven...</td>\n",
       "    </tr>\n",
       "    <tr>\n",
       "      <th>...</th>\n",
       "      <td>...</td>\n",
       "      <td>...</td>\n",
       "      <td>...</td>\n",
       "      <td>...</td>\n",
       "      <td>...</td>\n",
       "      <td>...</td>\n",
       "      <td>...</td>\n",
       "      <td>...</td>\n",
       "    </tr>\n",
       "    <tr>\n",
       "      <th>145</th>\n",
       "      <td>Iron Man</td>\n",
       "      <td>(2008)</td>\n",
       "      <td>94%</td>\n",
       "      <td>Jon Favreau</td>\n",
       "      <td>A billionaire industrialist and genius invento...</td>\n",
       "      <td>Powered by Robert Downey Jr.'s vibrant charm,...</td>\n",
       "      <td>Robert Downey Jr., Terrence Howard, Gwyneth Pa...</td>\n",
       "      <td>https://www.rottentomatoes.com/m/iron_man</td>\n",
       "    </tr>\n",
       "    <tr>\n",
       "      <th>146</th>\n",
       "      <td>It Happened One Night</td>\n",
       "      <td>(1934)</td>\n",
       "      <td>98%</td>\n",
       "      <td>Frank Capra</td>\n",
       "      <td>In Frank Capra's acclaimed romantic comedy, sp...</td>\n",
       "      <td>Capturing its stars and director at their fin...</td>\n",
       "      <td>Claudette Colbert, Clark Gable, Walter Connoll...</td>\n",
       "      <td>https://www.rottentomatoes.com/m/it_happened_o...</td>\n",
       "    </tr>\n",
       "    <tr>\n",
       "      <th>147</th>\n",
       "      <td>It's a Wonderful Life</td>\n",
       "      <td>(1946)</td>\n",
       "      <td>94%</td>\n",
       "      <td>Frank Capra</td>\n",
       "      <td>After George Bailey (James Stewart) wishes he ...</td>\n",
       "      <td>The holiday classic to define all holiday cla...</td>\n",
       "      <td>James Stewart, Donna Reed, Lionel Barrymore, T...</td>\n",
       "      <td>https://www.rottentomatoes.com/m/its_a_wonderf...</td>\n",
       "    </tr>\n",
       "    <tr>\n",
       "      <th>148</th>\n",
       "      <td>Jaws</td>\n",
       "      <td>(1975)</td>\n",
       "      <td>97%</td>\n",
       "      <td>Steven Spielberg</td>\n",
       "      <td>When a young woman is killed by a shark while ...</td>\n",
       "      <td>Compelling, well-crafted storytelling and a j...</td>\n",
       "      <td>Roy Scheider, Robert Shaw, Richard Dreyfuss, L...</td>\n",
       "      <td>https://www.rottentomatoes.com/m/jaws</td>\n",
       "    </tr>\n",
       "    <tr>\n",
       "      <th>149</th>\n",
       "      <td>John Wick</td>\n",
       "      <td>(2014)</td>\n",
       "      <td>86%</td>\n",
       "      <td>Chad Stahelski</td>\n",
       "      <td>Legendary assassin John Wick (Keanu Reeves) re...</td>\n",
       "      <td>Stylish, thrilling, and giddily kinetic, John...</td>\n",
       "      <td>Keanu Reeves, Michael Nyqvist, Alfie Allen, Wi...</td>\n",
       "      <td>https://www.rottentomatoes.com/m/john_wick</td>\n",
       "    </tr>\n",
       "  </tbody>\n",
       "</table>\n",
       "<p>150 rows × 8 columns</p>\n",
       "</div>"
      ],
      "text/plain": [
       "                                                Title Release_year Rating  \\\n",
       "0                                        12 Angry Men       (1957)   100%   \n",
       "1                               2001: A Space Odyssey       (1968)    92%   \n",
       "2                                       The 400 Blows       (1959)    99%   \n",
       "3    The Adventures of Priscilla, Queen of the Desert       (1994)    94%   \n",
       "4                        The Adventures of Robin Hood       (1938)   100%   \n",
       "..                                                ...          ...    ...   \n",
       "145                                          Iron Man       (2008)    94%   \n",
       "146                             It Happened One Night       (1934)    98%   \n",
       "147                             It's a Wonderful Life       (1946)    94%   \n",
       "148                                              Jaws       (1975)    97%   \n",
       "149                                         John Wick       (2014)    86%   \n",
       "\n",
       "                              Director  \\\n",
       "0                         Sidney Lumet   \n",
       "1                      Stanley Kubrick   \n",
       "2                    François Truffaut   \n",
       "3                      Stephan Elliott   \n",
       "4     Michael Curtiz, William Keighley   \n",
       "..                                 ...   \n",
       "145                        Jon Favreau   \n",
       "146                        Frank Capra   \n",
       "147                        Frank Capra   \n",
       "148                   Steven Spielberg   \n",
       "149                     Chad Stahelski   \n",
       "\n",
       "                                              Synopsis  \\\n",
       "0    Following the closing arguments in a murder tr...   \n",
       "1    An imposing black structure provides a connect...   \n",
       "2    For young Parisian boy Antoine Doinel (Jean-Pi...   \n",
       "3    When drag queen Anthony (Hugo Weaving) agrees ...   \n",
       "4    When King Richard the Lionheart is captured, h...   \n",
       "..                                                 ...   \n",
       "145  A billionaire industrialist and genius invento...   \n",
       "146  In Frank Capra's acclaimed romantic comedy, sp...   \n",
       "147  After George Bailey (James Stewart) wishes he ...   \n",
       "148  When a young woman is killed by a shark while ...   \n",
       "149  Legendary assassin John Wick (Keanu Reeves) re...   \n",
       "\n",
       "                                     Critics_Consensus  \\\n",
       "0     Sidney Lumet's feature debut is a superbly wr...   \n",
       "1     One of the most influential of all sci-fi fil...   \n",
       "2     A seminal French New Wave film that offers an...   \n",
       "3     While its premise is ripe for comedy -- and i...   \n",
       "4     Errol Flynn thrills as the legendary title ch...   \n",
       "..                                                 ...   \n",
       "145   Powered by Robert Downey Jr.'s vibrant charm,...   \n",
       "146   Capturing its stars and director at their fin...   \n",
       "147   The holiday classic to define all holiday cla...   \n",
       "148   Compelling, well-crafted storytelling and a j...   \n",
       "149   Stylish, thrilling, and giddily kinetic, John...   \n",
       "\n",
       "                                                  Cast  \\\n",
       "0    Henry Fonda, Lee J. Cobb, Ed Begley, E.G. Mars...   \n",
       "1    Keir Dullea, Gary Lockwood, William Sylvester,...   \n",
       "2    Jean-Pierre Léaud, Claire Maurier, Albert Remy...   \n",
       "3    Terence Stamp, Hugo Weaving, Guy Pearce, Bill ...   \n",
       "4    Errol Flynn, Olivia de Havilland, Basil Rathbo...   \n",
       "..                                                 ...   \n",
       "145  Robert Downey Jr., Terrence Howard, Gwyneth Pa...   \n",
       "146  Claudette Colbert, Clark Gable, Walter Connoll...   \n",
       "147  James Stewart, Donna Reed, Lionel Barrymore, T...   \n",
       "148  Roy Scheider, Robert Shaw, Richard Dreyfuss, L...   \n",
       "149  Keanu Reeves, Michael Nyqvist, Alfie Allen, Wi...   \n",
       "\n",
       "                                                   url  \n",
       "0    https://www.rottentomatoes.com/m/1000013_12_an...  \n",
       "1    https://www.rottentomatoes.com/m/2001_a_space_...  \n",
       "2           https://www.rottentomatoes.com/m/400_blows  \n",
       "3    https://www.rottentomatoes.com/m/adventures_of...  \n",
       "4    https://www.rottentomatoes.com/m/1000355-adven...  \n",
       "..                                                 ...  \n",
       "145          https://www.rottentomatoes.com/m/iron_man  \n",
       "146  https://www.rottentomatoes.com/m/it_happened_o...  \n",
       "147  https://www.rottentomatoes.com/m/its_a_wonderf...  \n",
       "148              https://www.rottentomatoes.com/m/jaws  \n",
       "149         https://www.rottentomatoes.com/m/john_wick  \n",
       "\n",
       "[150 rows x 8 columns]"
      ]
     },
     "execution_count": 59,
     "metadata": {},
     "output_type": "execute_result"
    }
   ],
   "source": [
    "Top_300_movie_df"
   ]
  },
  {
   "cell_type": "markdown",
   "metadata": {},
   "source": [
    "# Scraping Second Page"
   ]
  },
  {
   "cell_type": "markdown",
   "metadata": {},
   "source": [
    "### Creating Helper Function to scrape second page"
   ]
  },
  {
   "cell_type": "code",
   "execution_count": 60,
   "metadata": {},
   "outputs": [
    {
     "data": {
      "text/html": [
       "<div>\n",
       "<style scoped>\n",
       "    .dataframe tbody tr th:only-of-type {\n",
       "        vertical-align: middle;\n",
       "    }\n",
       "\n",
       "    .dataframe tbody tr th {\n",
       "        vertical-align: top;\n",
       "    }\n",
       "\n",
       "    .dataframe thead th {\n",
       "        text-align: right;\n",
       "    }\n",
       "</style>\n",
       "<table border=\"1\" class=\"dataframe\">\n",
       "  <thead>\n",
       "    <tr style=\"text-align: right;\">\n",
       "      <th></th>\n",
       "      <th>Title</th>\n",
       "      <th>Rating</th>\n",
       "      <th>Release_year</th>\n",
       "      <th>Director</th>\n",
       "      <th>Cast</th>\n",
       "      <th>Synopsis</th>\n",
       "      <th>Critics_Consensus</th>\n",
       "      <th>url</th>\n",
       "    </tr>\n",
       "  </thead>\n",
       "  <tbody>\n",
       "    <tr>\n",
       "      <th>0</th>\n",
       "      <td>12 Angry Men</td>\n",
       "      <td>100%</td>\n",
       "      <td>(1957)</td>\n",
       "      <td>Sidney Lumet</td>\n",
       "      <td>Henry Fonda, Lee J. Cobb, Ed Begley, E.G. Mars...</td>\n",
       "      <td>Following the closing arguments in a murder tr...</td>\n",
       "      <td>Sidney Lumet's feature debut is a superbly wr...</td>\n",
       "      <td>https://www.rottentomatoes.com/m/1000013_12_an...</td>\n",
       "    </tr>\n",
       "    <tr>\n",
       "      <th>1</th>\n",
       "      <td>2001: A Space Odyssey</td>\n",
       "      <td>92%</td>\n",
       "      <td>(1968)</td>\n",
       "      <td>Stanley Kubrick</td>\n",
       "      <td>Keir Dullea, Gary Lockwood, William Sylvester,...</td>\n",
       "      <td>An imposing black structure provides a connect...</td>\n",
       "      <td>One of the most influential of all sci-fi fil...</td>\n",
       "      <td>https://www.rottentomatoes.com/m/2001_a_space_...</td>\n",
       "    </tr>\n",
       "    <tr>\n",
       "      <th>2</th>\n",
       "      <td>The 400 Blows</td>\n",
       "      <td>99%</td>\n",
       "      <td>(1959)</td>\n",
       "      <td>François Truffaut</td>\n",
       "      <td>Jean-Pierre Léaud, Claire Maurier, Albert Remy...</td>\n",
       "      <td>For young Parisian boy Antoine Doinel (Jean-Pi...</td>\n",
       "      <td>A seminal French New Wave film that offers an...</td>\n",
       "      <td>https://www.rottentomatoes.com/m/400_blows</td>\n",
       "    </tr>\n",
       "    <tr>\n",
       "      <th>3</th>\n",
       "      <td>The Adventures of Priscilla, Queen of the Desert</td>\n",
       "      <td>94%</td>\n",
       "      <td>(1994)</td>\n",
       "      <td>Stephan Elliott</td>\n",
       "      <td>Terence Stamp, Hugo Weaving, Guy Pearce, Bill ...</td>\n",
       "      <td>When drag queen Anthony (Hugo Weaving) agrees ...</td>\n",
       "      <td>While its premise is ripe for comedy -- and i...</td>\n",
       "      <td>https://www.rottentomatoes.com/m/adventures_of...</td>\n",
       "    </tr>\n",
       "    <tr>\n",
       "      <th>4</th>\n",
       "      <td>The Adventures of Robin Hood</td>\n",
       "      <td>100%</td>\n",
       "      <td>(1938)</td>\n",
       "      <td>Michael Curtiz, William Keighley</td>\n",
       "      <td>Errol Flynn, Olivia de Havilland, Basil Rathbo...</td>\n",
       "      <td>When King Richard the Lionheart is captured, h...</td>\n",
       "      <td>Errol Flynn thrills as the legendary title ch...</td>\n",
       "      <td>https://www.rottentomatoes.com/m/1000355-adven...</td>\n",
       "    </tr>\n",
       "    <tr>\n",
       "      <th>...</th>\n",
       "      <td>...</td>\n",
       "      <td>...</td>\n",
       "      <td>...</td>\n",
       "      <td>...</td>\n",
       "      <td>...</td>\n",
       "      <td>...</td>\n",
       "      <td>...</td>\n",
       "      <td>...</td>\n",
       "    </tr>\n",
       "    <tr>\n",
       "      <th>295</th>\n",
       "      <td>Iron Man</td>\n",
       "      <td>94%</td>\n",
       "      <td>(2008)</td>\n",
       "      <td>Jon Favreau</td>\n",
       "      <td>Robert Downey Jr., Terrence Howard, Gwyneth Pa...</td>\n",
       "      <td>A billionaire industrialist and genius invento...</td>\n",
       "      <td>Powered by Robert Downey Jr.'s vibrant charm,...</td>\n",
       "      <td>https://www.rottentomatoes.com/m/iron_man</td>\n",
       "    </tr>\n",
       "    <tr>\n",
       "      <th>296</th>\n",
       "      <td>It Happened One Night</td>\n",
       "      <td>98%</td>\n",
       "      <td>(1934)</td>\n",
       "      <td>Frank Capra</td>\n",
       "      <td>Claudette Colbert, Clark Gable, Walter Connoll...</td>\n",
       "      <td>In Frank Capra's acclaimed romantic comedy, sp...</td>\n",
       "      <td>Capturing its stars and director at their fin...</td>\n",
       "      <td>https://www.rottentomatoes.com/m/it_happened_o...</td>\n",
       "    </tr>\n",
       "    <tr>\n",
       "      <th>297</th>\n",
       "      <td>It's a Wonderful Life</td>\n",
       "      <td>94%</td>\n",
       "      <td>(1946)</td>\n",
       "      <td>Frank Capra</td>\n",
       "      <td>James Stewart, Donna Reed, Lionel Barrymore, T...</td>\n",
       "      <td>After George Bailey (James Stewart) wishes he ...</td>\n",
       "      <td>The holiday classic to define all holiday cla...</td>\n",
       "      <td>https://www.rottentomatoes.com/m/its_a_wonderf...</td>\n",
       "    </tr>\n",
       "    <tr>\n",
       "      <th>298</th>\n",
       "      <td>Jaws</td>\n",
       "      <td>97%</td>\n",
       "      <td>(1975)</td>\n",
       "      <td>Steven Spielberg</td>\n",
       "      <td>Roy Scheider, Robert Shaw, Richard Dreyfuss, L...</td>\n",
       "      <td>When a young woman is killed by a shark while ...</td>\n",
       "      <td>Compelling, well-crafted storytelling and a j...</td>\n",
       "      <td>https://www.rottentomatoes.com/m/jaws</td>\n",
       "    </tr>\n",
       "    <tr>\n",
       "      <th>299</th>\n",
       "      <td>John Wick</td>\n",
       "      <td>86%</td>\n",
       "      <td>(2014)</td>\n",
       "      <td>Chad Stahelski</td>\n",
       "      <td>Keanu Reeves, Michael Nyqvist, Alfie Allen, Wi...</td>\n",
       "      <td>Legendary assassin John Wick (Keanu Reeves) re...</td>\n",
       "      <td>Stylish, thrilling, and giddily kinetic, John...</td>\n",
       "      <td>https://www.rottentomatoes.com/m/john_wick</td>\n",
       "    </tr>\n",
       "  </tbody>\n",
       "</table>\n",
       "<p>300 rows × 8 columns</p>\n",
       "</div>"
      ],
      "text/plain": [
       "                                                Title Rating Release_year  \\\n",
       "0                                        12 Angry Men   100%       (1957)   \n",
       "1                               2001: A Space Odyssey    92%       (1968)   \n",
       "2                                       The 400 Blows    99%       (1959)   \n",
       "3    The Adventures of Priscilla, Queen of the Desert    94%       (1994)   \n",
       "4                        The Adventures of Robin Hood   100%       (1938)   \n",
       "..                                                ...    ...          ...   \n",
       "295                                          Iron Man    94%       (2008)   \n",
       "296                             It Happened One Night    98%       (1934)   \n",
       "297                             It's a Wonderful Life    94%       (1946)   \n",
       "298                                              Jaws    97%       (1975)   \n",
       "299                                         John Wick    86%       (2014)   \n",
       "\n",
       "                              Director  \\\n",
       "0                         Sidney Lumet   \n",
       "1                      Stanley Kubrick   \n",
       "2                    François Truffaut   \n",
       "3                      Stephan Elliott   \n",
       "4     Michael Curtiz, William Keighley   \n",
       "..                                 ...   \n",
       "295                        Jon Favreau   \n",
       "296                        Frank Capra   \n",
       "297                        Frank Capra   \n",
       "298                   Steven Spielberg   \n",
       "299                     Chad Stahelski   \n",
       "\n",
       "                                                  Cast  \\\n",
       "0    Henry Fonda, Lee J. Cobb, Ed Begley, E.G. Mars...   \n",
       "1    Keir Dullea, Gary Lockwood, William Sylvester,...   \n",
       "2    Jean-Pierre Léaud, Claire Maurier, Albert Remy...   \n",
       "3    Terence Stamp, Hugo Weaving, Guy Pearce, Bill ...   \n",
       "4    Errol Flynn, Olivia de Havilland, Basil Rathbo...   \n",
       "..                                                 ...   \n",
       "295  Robert Downey Jr., Terrence Howard, Gwyneth Pa...   \n",
       "296  Claudette Colbert, Clark Gable, Walter Connoll...   \n",
       "297  James Stewart, Donna Reed, Lionel Barrymore, T...   \n",
       "298  Roy Scheider, Robert Shaw, Richard Dreyfuss, L...   \n",
       "299  Keanu Reeves, Michael Nyqvist, Alfie Allen, Wi...   \n",
       "\n",
       "                                              Synopsis  \\\n",
       "0    Following the closing arguments in a murder tr...   \n",
       "1    An imposing black structure provides a connect...   \n",
       "2    For young Parisian boy Antoine Doinel (Jean-Pi...   \n",
       "3    When drag queen Anthony (Hugo Weaving) agrees ...   \n",
       "4    When King Richard the Lionheart is captured, h...   \n",
       "..                                                 ...   \n",
       "295  A billionaire industrialist and genius invento...   \n",
       "296  In Frank Capra's acclaimed romantic comedy, sp...   \n",
       "297  After George Bailey (James Stewart) wishes he ...   \n",
       "298  When a young woman is killed by a shark while ...   \n",
       "299  Legendary assassin John Wick (Keanu Reeves) re...   \n",
       "\n",
       "                                     Critics_Consensus  \\\n",
       "0     Sidney Lumet's feature debut is a superbly wr...   \n",
       "1     One of the most influential of all sci-fi fil...   \n",
       "2     A seminal French New Wave film that offers an...   \n",
       "3     While its premise is ripe for comedy -- and i...   \n",
       "4     Errol Flynn thrills as the legendary title ch...   \n",
       "..                                                 ...   \n",
       "295   Powered by Robert Downey Jr.'s vibrant charm,...   \n",
       "296   Capturing its stars and director at their fin...   \n",
       "297   The holiday classic to define all holiday cla...   \n",
       "298   Compelling, well-crafted storytelling and a j...   \n",
       "299   Stylish, thrilling, and giddily kinetic, John...   \n",
       "\n",
       "                                                   url  \n",
       "0    https://www.rottentomatoes.com/m/1000013_12_an...  \n",
       "1    https://www.rottentomatoes.com/m/2001_a_space_...  \n",
       "2           https://www.rottentomatoes.com/m/400_blows  \n",
       "3    https://www.rottentomatoes.com/m/adventures_of...  \n",
       "4    https://www.rottentomatoes.com/m/1000355-adven...  \n",
       "..                                                 ...  \n",
       "295          https://www.rottentomatoes.com/m/iron_man  \n",
       "296  https://www.rottentomatoes.com/m/it_happened_o...  \n",
       "297  https://www.rottentomatoes.com/m/its_a_wonderf...  \n",
       "298              https://www.rottentomatoes.com/m/jaws  \n",
       "299         https://www.rottentomatoes.com/m/john_wick  \n",
       "\n",
       "[300 rows x 8 columns]"
      ]
     },
     "execution_count": 60,
     "metadata": {},
     "output_type": "execute_result"
    }
   ],
   "source": [
    "def scrape_multiple_pages(n):\n",
    "    final_dict = {'Title':[],'Rating':[],'Release_year':[],'Director':[],'Cast':[],\n",
    "                  'Synopsis':[],'Critics_Consensus':[],'url':[] }\n",
    "    for i in range(1,n+1):\n",
    "        url = 'https://editorial.rottentomatoes.com/guide/essential-movies-to-watch-now/'+str(i)+'/'\n",
    "        doc = BeautifulSoup(requests.get(url).text)\n",
    "        final_dict['Title'].extend(movie_titles)\n",
    "        final_dict['Rating'].extend(movie_ratings)\n",
    "        final_dict['Release_year'].extend(movie_releases)\n",
    "        final_dict['Director'].extend(movie_director_names)\n",
    "        final_dict['Cast'].extend(stars)\n",
    "        final_dict['Synopsis'].extend(synopsis)\n",
    "        final_dict['Critics_Consensus'].extend(critics_consensus)\n",
    "        final_dict['url'].extend(movies_url)\n",
    "    return final_dict\n",
    "dictionary = scrape_multiple_pages(2)\n",
    "Top_300_movie_df = pd.DataFrame(dictionary)\n",
    "Top_300_movie_df"
   ]
  },
  {
   "cell_type": "markdown",
   "metadata": {},
   "source": [
    "# Create CSV file(s) with the extracted information"
   ]
  },
  {
   "cell_type": "code",
   "execution_count": 61,
   "metadata": {},
   "outputs": [
    {
     "name": "stdout",
     "output_type": "stream",
     "text": [
      "file converted successfully\n"
     ]
    }
   ],
   "source": [
    "#Converting the Movies Dataframe to a CSV File\n",
    "Top_300_movie_df.to_csv('Top300movies.csv', index=None)   \n",
    "print('file converted successfully')"
   ]
  },
  {
   "cell_type": "markdown",
   "metadata": {},
   "source": [
    "# Summary:\n",
    "I have finished scraping a list top movies with the help of Python's `BeautifulSoup` and `Request` library. \n",
    "After scraping, we stored our result into a dataframe and CSV format. \n",
    "\n",
    "\n",
    "![](https://imgur.com/tWU5ngU.png)\n",
    "\n",
    "\n",
    " ### Successfully scarped the data such as \n",
    "     1. Title \n",
    "     2. Movie_Release \n",
    "     3. Movie_Ratings \n",
    "     4. Director\n",
    "     5. Synopsis\n",
    "     6. Critics_Consensus\n",
    "     7. Cast\n",
    "     8. Movie link \n",
    " \n",
    "\n",
    "\n",
    "# References\n",
    "\n",
    "\n",
    "[1] Python offical documentation. https://docs.python.org/3/\n",
    "\n",
    "[2] Requests library. https://pypi.org/project/requests/\n",
    "\n",
    "[3] Beautiful Soup documentation. https://www.crummy.com/software/BeautifulSoup/bs4/doc/\n",
    "\n",
    "[4] Pandas library documentation. https://pandas.pydata.org/docs/\n",
    "\n",
    "[5] Aakash N S, Introduction to Web Scraping, 2021. https://jovian.ai/aakashns/python-web-scraping-and-rest-api\n",
    "\n",
    "[6] GeeksforGeeks. https://practice.geeksforgeeks.org\n",
    "\n",
    "[7] FreeCodeCamp. https://www.freecodecamp.org/\n",
    "\n",
    "[8] ParseHub. https://www.parsehub.com/\n",
    "\n",
    "[9] Jupyter Notebook. https://jupyter.org/\n"
   ]
  },
  {
   "cell_type": "code",
   "execution_count": 62,
   "metadata": {},
   "outputs": [
    {
     "data": {
      "application/javascript": [
       "window.require && require([\"base/js/namespace\"],function(Jupyter){Jupyter.notebook.save_checkpoint()})"
      ],
      "text/plain": [
       "<IPython.core.display.Javascript object>"
      ]
     },
     "metadata": {},
     "output_type": "display_data"
    },
    {
     "name": "stdout",
     "output_type": "stream",
     "text": [
      "[jovian] Updating notebook \"richardsamuelvincentpaul/web-scraping-project-top300-movies\" on https://jovian.com\u001b[0m\n",
      "[jovian] Uploading additional files...\u001b[0m\n",
      "[jovian] Committed successfully! https://jovian.com/richardsamuelvincentpaul/web-scraping-project-top300-movies\u001b[0m\n"
     ]
    },
    {
     "data": {
      "text/plain": [
       "'https://jovian.com/richardsamuelvincentpaul/web-scraping-project-top300-movies'"
      ]
     },
     "execution_count": 62,
     "metadata": {},
     "output_type": "execute_result"
    }
   ],
   "source": [
    "jovian.commit(files=['Top300movies.csv'])"
   ]
  },
  {
   "cell_type": "code",
   "execution_count": 63,
   "metadata": {},
   "outputs": [
    {
     "data": {
      "application/javascript": [
       "window.require && require([\"base/js/namespace\"],function(Jupyter){Jupyter.notebook.save_checkpoint()})"
      ],
      "text/plain": [
       "<IPython.core.display.Javascript object>"
      ]
     },
     "metadata": {},
     "output_type": "display_data"
    },
    {
     "name": "stdout",
     "output_type": "stream",
     "text": [
      "[jovian] Updating notebook \"richardsamuelvincentpaul/web-scraping-project-top300-movies\" on https://jovian.com\u001b[0m\n",
      "[jovian] Committed successfully! https://jovian.com/richardsamuelvincentpaul/web-scraping-project-top300-movies\u001b[0m\n"
     ]
    },
    {
     "data": {
      "text/plain": [
       "'https://jovian.com/richardsamuelvincentpaul/web-scraping-project-top300-movies'"
      ]
     },
     "execution_count": 63,
     "metadata": {},
     "output_type": "execute_result"
    }
   ],
   "source": [
    "jovian.commit()"
   ]
  },
  {
   "cell_type": "code",
   "execution_count": null,
   "metadata": {},
   "outputs": [],
   "source": []
  }
 ],
 "metadata": {
  "language_info": {
   "codemirror_mode": {
    "name": "ipython",
    "version": 3
   },
   "file_extension": ".py",
   "mimetype": "text/x-python",
   "name": "python",
   "nbconvert_exporter": "python",
   "pygments_lexer": "ipython3",
   "version": "3.9.7"
  }
 },
 "nbformat": 4,
 "nbformat_minor": 2
}